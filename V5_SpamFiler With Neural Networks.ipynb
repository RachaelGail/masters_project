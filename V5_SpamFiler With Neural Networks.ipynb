{
 "cells": [
  {
   "cell_type": "code",
   "execution_count": 1,
   "id": "ee79076a",
   "metadata": {},
   "outputs": [],
   "source": [
    "import time\n",
    "import pickle\n",
    "import tensorflow as tf\n",
    "gpus = tf.config.experimental.list_physical_devices('GPU')\n",
    "if gpus:\n",
    "    # only use GPU memory that we need, not allocate all the GPU memory\n",
    "    tf.config.experimental.set_memory_growth(gpus[0], enable=True)\n",
    "\n",
    "import tqdm\n",
    "import numpy as np\n",
    "\n",
    "\n",
    "from os import walk \n",
    "from os.path import join\n",
    "import pandas as pd\n",
    "import nltk\n",
    "from nltk.corpus import stopwords\n",
    "from nltk.tokenize import word_tokenize\n",
    "from bs4 import BeautifulSoup \n",
    "\n",
    "from sklearn import svm\n",
    "from sklearn.feature_extraction import text\n",
    "from sklearn.feature_extraction.text import CountVectorizer, TfidfTransformer, TfidfVectorizer\n",
    "from sklearn.model_selection import GridSearchCV, train_test_split\n",
    "from sklearn.linear_model import SGDClassifier\n",
    "from sklearn.metrics import confusion_matrix, accuracy_score, classification_report, ConfusionMatrixDisplay\n",
    "\n",
    "import gensim\n",
    "import matplotlib.pyplot as plt\n",
    "import seaborn as sns\n",
    "\n",
    "from bs4 import BeautifulSoup\n",
    "from wordcloud import WordCloud\n",
    "from PIL import Image\n",
    "\n",
    "from collections import Counter\n",
    "\n",
    "%matplotlib inline \n",
    "\n",
    "\n",
    "\n",
    "\n",
    "from tensorflow.keras.preprocessing.text import Tokenizer\n",
    "from tensorflow.keras.preprocessing.sequence import pad_sequences\n",
    "from tensorflow.keras.utils import to_categorical\n",
    "from tensorflow.keras.callbacks import ModelCheckpoint, TensorBoard\n",
    "from sklearn.model_selection import train_test_split\n",
    "from tensorflow.keras.layers import Embedding, LSTM, Dropout, Dense\n",
    "from tensorflow.keras.models import Sequential\n",
    "from tensorflow.keras.metrics import Recall, Precision"
   ]
  },
  {
   "cell_type": "code",
   "execution_count": 2,
   "id": "1f0101f1",
   "metadata": {},
   "outputs": [],
   "source": [
    "SPAM_1_FILEPATH = 'UniversityProject_SpamFilter/01_Processing/spam_assassin_corpus/spam_1'\n",
    "SPAM_2_FILEPATH = 'UniversityProject_SpamFilter/01_Processing/spam_assassin_corpus/spam_2'\n",
    "HAM_1_FILEPATH = 'UniversityProject_SpamFilter/01_Processing/spam_assassin_corpus/ham_1'\n",
    "HAM_2_FILEPATH = 'UniversityProject_SpamFilter/01_Processing/spam_assassin_corpus/ham_2'\n",
    "\n",
    "SPAM_CAT = 1\n",
    "HAM_CAT = 0\n",
    "\n",
    "\n",
    "SEQUENCE_LENGTH = 100 # the length of all sequences (number of words per sample)\n",
    "EMBEDDING_SIZE = 100  # Using 100-Dimensional GloVe embedding vectors\n",
    "TEST_SIZE = 0.25 # ratio of testing set\n",
    "\n",
    "BATCH_SIZE = 64\n",
    "EPOCHS = 10 # number of epochs\n",
    "\n",
    "label2int = {\"ham\": 0, \"spam\": 1}\n",
    "int2label = {0: \"ham\", 1: \"spam\"}\n",
    "\n",
    "CUSTOM_FONT = 'UniversityProject_SpamFilter/wordcloud_resources/OpenSansCondensed-Bold.ttf'\n",
    "WORD_CLOUD = 'UniversityProject_SpamFilter/wordcloud_resources/word_cloud.png'\n",
    "THUMBS_UP = 'UniversityProject_SpamFilter/wordcloud_resources/thumbs-up.png'\n",
    "THUMBS_DOWN = 'UniversityProject_SpamFilter/wordcloud_resources/thumbs-down.png'\n",
    "X_ICON = 'UniversityProject_SpamFilter/wordcloud_resources/x-icon.png'"
   ]
  },
  {
   "cell_type": "code",
   "execution_count": 3,
   "id": "33533b08",
   "metadata": {},
   "outputs": [],
   "source": [
    "def email_body_generator(path): \n",
    "                                    #walk provides a tuple \n",
    "    for root, dirnames, filenames, in walk(path):\n",
    "        for file_name in filenames:\n",
    "            \n",
    "            filepath = join(root, file_name)\n",
    "            stream = open(filepath, encoding='latin-1')\n",
    "            is_body= False\n",
    "            lines = []\n",
    "            \n",
    "            #extracts email body \n",
    "            for line in stream: \n",
    "                if is_body: \n",
    "                    lines.append(line)\n",
    "                elif line == '\\n':\n",
    "                    is_body = True\n",
    "\n",
    "            stream.close()\n",
    "\n",
    "            email_body = '\\n'.join(lines)\n",
    "            \n",
    "            #loops over the file in the directory and returns the file name and associated email body \n",
    "            yield file_name, email_body"
   ]
  },
  {
   "cell_type": "code",
   "execution_count": 4,
   "id": "e6bf95e2",
   "metadata": {},
   "outputs": [],
   "source": [
    "def dataframe_from_directory(path, classification):\n",
    "    rows = []\n",
    "    row_names = []\n",
    "    \n",
    "    for file_name, email_body in email_body_generator(path):\n",
    "        rows.append({'MESSAGE': email_body, 'CATEGORY': classification})\n",
    "        row_names.append(file_name) \n",
    "    \n",
    "    return pd.DataFrame(rows, index=row_names) "
   ]
  },
  {
   "cell_type": "code",
   "execution_count": 5,
   "id": "4451845e",
   "metadata": {},
   "outputs": [],
   "source": [
    "spam_emails = dataframe_from_directory(SPAM_1_FILEPATH, SPAM_CAT)\n",
    "spam_emails = spam_emails.append(dataframe_from_directory(SPAM_2_FILEPATH, SPAM_CAT))\n",
    "ham_emails = dataframe_from_directory(HAM_1_FILEPATH, HAM_CAT)\n",
    "ham_emails = ham_emails.append(dataframe_from_directory(HAM_2_FILEPATH, HAM_CAT))\n",
    "data = pd.concat([spam_emails, ham_emails])"
   ]
  },
  {
   "cell_type": "code",
   "execution_count": 6,
   "id": "9237d343",
   "metadata": {},
   "outputs": [
    {
     "data": {
      "text/plain": [
       "Index(['cmds', 'cmds', 'cmds'], dtype='object')"
      ]
     },
     "execution_count": 6,
     "metadata": {},
     "output_type": "execute_result"
    }
   ],
   "source": [
    "data[data.MESSAGE.str.len() == 0].index"
   ]
  },
  {
   "cell_type": "code",
   "execution_count": 7,
   "id": "aebcca18",
   "metadata": {},
   "outputs": [],
   "source": [
    "data.drop(['cmds'], inplace = True)"
   ]
  },
  {
   "cell_type": "code",
   "execution_count": 8,
   "id": "a10cb667",
   "metadata": {},
   "outputs": [
    {
     "data": {
      "text/html": [
       "<div>\n",
       "<style scoped>\n",
       "    .dataframe tbody tr th:only-of-type {\n",
       "        vertical-align: middle;\n",
       "    }\n",
       "\n",
       "    .dataframe tbody tr th {\n",
       "        vertical-align: top;\n",
       "    }\n",
       "\n",
       "    .dataframe thead th {\n",
       "        text-align: right;\n",
       "    }\n",
       "</style>\n",
       "<table border=\"1\" class=\"dataframe\">\n",
       "  <thead>\n",
       "    <tr style=\"text-align: right;\">\n",
       "      <th></th>\n",
       "      <th>MESSAGE</th>\n",
       "      <th>CATEGORY</th>\n",
       "      <th>length</th>\n",
       "    </tr>\n",
       "  </thead>\n",
       "  <tbody>\n",
       "    <tr>\n",
       "      <th>00249.5f45607c1bffe89f60ba1ec9f878039a</th>\n",
       "      <td>Dear Homeowner,\\n\\n \\n\\nInterest Rates are at ...</td>\n",
       "      <td>1</td>\n",
       "      <td>612</td>\n",
       "    </tr>\n",
       "    <tr>\n",
       "      <th>00373.ebe8670ac56b04125c25100a36ab0510</th>\n",
       "      <td>ATTENTION: This is a MUST for ALL Computer Use...</td>\n",
       "      <td>1</td>\n",
       "      <td>1298</td>\n",
       "    </tr>\n",
       "    <tr>\n",
       "      <th>00214.1367039e50dc6b7adb0f2aa8aba83216</th>\n",
       "      <td>This is a multi-part message in MIME format.\\n...</td>\n",
       "      <td>1</td>\n",
       "      <td>6691</td>\n",
       "    </tr>\n",
       "    <tr>\n",
       "      <th>00210.050ffd105bd4e006771ee63cabc59978</th>\n",
       "      <td>IMPORTANT INFORMATION:\\n\\n\\n\\nThe new domain n...</td>\n",
       "      <td>1</td>\n",
       "      <td>1141</td>\n",
       "    </tr>\n",
       "    <tr>\n",
       "      <th>00033.9babb58d9298daa2963d4f514193d7d6</th>\n",
       "      <td>This is the bottom line.  If you can GIVE AWAY...</td>\n",
       "      <td>1</td>\n",
       "      <td>1795</td>\n",
       "    </tr>\n",
       "    <tr>\n",
       "      <th>...</th>\n",
       "      <td>...</td>\n",
       "      <td>...</td>\n",
       "      <td>...</td>\n",
       "    </tr>\n",
       "    <tr>\n",
       "      <th>00609.dd49926ce94a1ea328cce9b62825bc97</th>\n",
       "      <td>I'm one of the 30,000 but it's not working ver...</td>\n",
       "      <td>0</td>\n",
       "      <td>953</td>\n",
       "    </tr>\n",
       "    <tr>\n",
       "      <th>00957.e0b56b117f3ec5f85e432a9d2a47801f</th>\n",
       "      <td>Damien Morton quoted:\\n\\n&gt;W3C approves HTML 4 ...</td>\n",
       "      <td>0</td>\n",
       "      <td>257</td>\n",
       "    </tr>\n",
       "    <tr>\n",
       "      <th>01127.841233b48eceb74a825417d8d918abf8</th>\n",
       "      <td>On Mon, 2002-07-22 at 06:50, che wrote:\\n\\n\\n\\...</td>\n",
       "      <td>0</td>\n",
       "      <td>393</td>\n",
       "    </tr>\n",
       "    <tr>\n",
       "      <th>01178.5c977dff972cd6eef64d4173b90307f0</th>\n",
       "      <td>Once upon a time, Manfred wrote :\\n\\n\\n\\n&gt; I w...</td>\n",
       "      <td>0</td>\n",
       "      <td>1434</td>\n",
       "    </tr>\n",
       "    <tr>\n",
       "      <th>00747.352d424267d36975a7b40b85ffd0885e</th>\n",
       "      <td>If you run Pick, and then use the \"New FTOC\" b...</td>\n",
       "      <td>0</td>\n",
       "      <td>866</td>\n",
       "    </tr>\n",
       "  </tbody>\n",
       "</table>\n",
       "<p>5796 rows × 3 columns</p>\n",
       "</div>"
      ],
      "text/plain": [
       "                                                                                  MESSAGE  \\\n",
       "00249.5f45607c1bffe89f60ba1ec9f878039a  Dear Homeowner,\\n\\n \\n\\nInterest Rates are at ...   \n",
       "00373.ebe8670ac56b04125c25100a36ab0510  ATTENTION: This is a MUST for ALL Computer Use...   \n",
       "00214.1367039e50dc6b7adb0f2aa8aba83216  This is a multi-part message in MIME format.\\n...   \n",
       "00210.050ffd105bd4e006771ee63cabc59978  IMPORTANT INFORMATION:\\n\\n\\n\\nThe new domain n...   \n",
       "00033.9babb58d9298daa2963d4f514193d7d6  This is the bottom line.  If you can GIVE AWAY...   \n",
       "...                                                                                   ...   \n",
       "00609.dd49926ce94a1ea328cce9b62825bc97  I'm one of the 30,000 but it's not working ver...   \n",
       "00957.e0b56b117f3ec5f85e432a9d2a47801f  Damien Morton quoted:\\n\\n>W3C approves HTML 4 ...   \n",
       "01127.841233b48eceb74a825417d8d918abf8  On Mon, 2002-07-22 at 06:50, che wrote:\\n\\n\\n\\...   \n",
       "01178.5c977dff972cd6eef64d4173b90307f0  Once upon a time, Manfred wrote :\\n\\n\\n\\n> I w...   \n",
       "00747.352d424267d36975a7b40b85ffd0885e  If you run Pick, and then use the \"New FTOC\" b...   \n",
       "\n",
       "                                        CATEGORY  length  \n",
       "00249.5f45607c1bffe89f60ba1ec9f878039a         1     612  \n",
       "00373.ebe8670ac56b04125c25100a36ab0510         1    1298  \n",
       "00214.1367039e50dc6b7adb0f2aa8aba83216         1    6691  \n",
       "00210.050ffd105bd4e006771ee63cabc59978         1    1141  \n",
       "00033.9babb58d9298daa2963d4f514193d7d6         1    1795  \n",
       "...                                          ...     ...  \n",
       "00609.dd49926ce94a1ea328cce9b62825bc97         0     953  \n",
       "00957.e0b56b117f3ec5f85e432a9d2a47801f         0     257  \n",
       "01127.841233b48eceb74a825417d8d918abf8         0     393  \n",
       "01178.5c977dff972cd6eef64d4173b90307f0         0    1434  \n",
       "00747.352d424267d36975a7b40b85ffd0885e         0     866  \n",
       "\n",
       "[5796 rows x 3 columns]"
      ]
     },
     "execution_count": 8,
     "metadata": {},
     "output_type": "execute_result"
    }
   ],
   "source": [
    "data['length']=data['MESSAGE'].apply(len)\n",
    "data"
   ]
  },
  {
   "cell_type": "code",
   "execution_count": 9,
   "id": "9f9018f2",
   "metadata": {},
   "outputs": [],
   "source": [
    "documents_ids = range(0, len(data.index))\n",
    "data['Doc_ID'] = documents_ids\n",
    "data['File_Name'] = data.index\n",
    "data = data.set_index('Doc_ID')"
   ]
  },
  {
   "cell_type": "code",
   "execution_count": 10,
   "id": "740c18d2",
   "metadata": {},
   "outputs": [],
   "source": [
    "sklearn_stopwords = set(text.ENGLISH_STOP_WORDS)\n",
    "gensim_stopwords = set(gensim.parsing.preprocessing.STOPWORDS)\n",
    "nltk_stop_words = stopwords.words('english')\n",
    "\n",
    "gensim_and_sklearn = sklearn_stopwords.union(gensim_stopwords)\n",
    "libary_stopwords = gensim_and_sklearn.union(nltk_stop_words)\n",
    "\n",
    "all_stop_words = {'url', 'http', '\\n', '[html', 'html', 'tr', 'td', 'https', 'br', 'ign', 'err', 'mpt','[', ']' }\n",
    "all_stop_words.update(libary_stopwords)\n",
    "\n",
    "capital_sw = [each_string.title() for each_string in all_stop_words]\n",
    "uppercase_sw = [each_string.upper() for each_string in all_stop_words]\n",
    "\n",
    "all_stop_words.update(capital_sw)\n",
    "all_stop_words.update(uppercase_sw)"
   ]
  },
  {
   "cell_type": "code",
   "execution_count": 11,
   "id": "dac9db1d",
   "metadata": {},
   "outputs": [],
   "source": [
    "def clean_msg_nohtml(message, #stemmer = PorterStemmer(),\n",
    "                  stop_words = set(all_stop_words)): \n",
    "    \n",
    "    # Remove HTML tags \n",
    "    soup = BeautifulSoup(message, 'html.parser')\n",
    "    cleaned_text = soup.get_text()\n",
    "    \n",
    "    #Converts to lower case and splots up  the individual words\n",
    "    words = word_tokenize(cleaned_text)\n",
    "    \n",
    "    filtered_words = []\n",
    "    \n",
    "    for word in words: \n",
    "        if word not in stop_words and word.isalpha():\n",
    "            filtered_words.append(word)\n",
    "    \n",
    "    return filtered_words"
   ]
  },
  {
   "cell_type": "code",
   "execution_count": 12,
   "id": "0b588a6d",
   "metadata": {},
   "outputs": [
    {
     "name": "stderr",
     "output_type": "stream",
     "text": [
      "/Users/rachaeldoherty/opt/anaconda3/lib/python3.8/site-packages/bs4/__init__.py:417: MarkupResemblesLocatorWarning: \"http://www.post-gazette.com/columnists/20020905brian5\n",
      "\" looks like a URL. Beautiful Soup is not an HTTP client. You should probably use an HTTP client like requests to get the document behind the URL, and feed that document to Beautiful Soup.\n",
      "  warnings.warn(\n"
     ]
    }
   ],
   "source": [
    "nested_list = data.MESSAGE.apply(clean_msg_nohtml)"
   ]
  },
  {
   "cell_type": "code",
   "execution_count": 13,
   "id": "d074d577",
   "metadata": {},
   "outputs": [
    {
     "data": {
      "text/plain": [
       "Doc_ID\n",
       "0       [Dear, Homeowner, Rates, lowest, point, years,...\n",
       "1       [ATTENTION, Users, Package, Deal, Norton, Syst...\n",
       "2       [message, MIME, format, dare, Try, better, ann...\n",
       "3       [IMPORTANT, INFORMATION, new, domain, names, f...\n",
       "4       [line, AWAY, CD, FREE, people, like, month, le...\n",
       "                              ...                        \n",
       "5791    [working, week, TES, updates, servers, syncing...\n",
       "5792    [Damien, Morton, quoted, approves, able, feeli...\n",
       "5793    [Mon, che, wrote, thats, correct, lines, added...\n",
       "5794    [time, Manfred, wrote, like, install, RPM, tri...\n",
       "5795    [run, Pick, use, New, FTOC, button, messages, ...\n",
       "Name: MESSAGE, Length: 5796, dtype: object"
      ]
     },
     "execution_count": 13,
     "metadata": {},
     "output_type": "execute_result"
    }
   ],
   "source": [
    "nested_list"
   ]
  },
  {
   "cell_type": "code",
   "execution_count": 14,
   "id": "1d17ddb4",
   "metadata": {},
   "outputs": [],
   "source": [
    "docs_id_SPAM = data[data.CATEGORY ==1].index\n",
    "docs_id_HAM = data[data.CATEGORY ==0].index\n",
    "\n",
    "nested_list_HAM = nested_list.loc[docs_id_HAM]\n",
    "nested_list_SPAM = nested_list.loc[docs_id_SPAM]\n",
    "flat_list_HAM = [item for sublist in nested_list_HAM for item in sublist]\n",
    "\n",
    "#total number of unique words in the non spam messages\n",
    "HAM_words = pd.Series(flat_list_HAM).value_counts() \n",
    "flat_list_SPAM = [item for sublist in nested_list_SPAM for item in sublist]\n",
    "\n",
    "#total number of unique words in the spam messages\n",
    "SPAM_words = pd.Series(flat_list_SPAM).value_counts() "
   ]
  },
  {
   "cell_type": "code",
   "execution_count": 15,
   "id": "acd48cdb",
   "metadata": {},
   "outputs": [
    {
     "data": {
      "text/plain": [
       "pandas.core.series.Series"
      ]
     },
     "execution_count": 15,
     "metadata": {},
     "output_type": "execute_result"
    }
   ],
   "source": [
    "type(SPAM_words)"
   ]
  },
  {
   "cell_type": "code",
   "execution_count": 16,
   "id": "490287da",
   "metadata": {},
   "outputs": [
    {
     "data": {
      "text/plain": [
       "email          1955\n",
       "list           1312\n",
       "money          1185\n",
       "business       1181\n",
       "information    1178\n",
       "               ... \n",
       "sNo               1\n",
       "DEFENSE           1\n",
       "carpet            1\n",
       "Eluxmedia         1\n",
       "Birthday          1\n",
       "Length: 24303, dtype: int64"
      ]
     },
     "execution_count": 16,
     "metadata": {},
     "output_type": "execute_result"
    }
   ],
   "source": [
    "SPAM_words"
   ]
  },
  {
   "cell_type": "code",
   "execution_count": null,
   "id": "f203bbf2",
   "metadata": {},
   "outputs": [],
   "source": []
  },
  {
   "cell_type": "code",
   "execution_count": null,
   "id": "463b880c",
   "metadata": {},
   "outputs": [],
   "source": []
  },
  {
   "cell_type": "code",
   "execution_count": null,
   "id": "3ee64413",
   "metadata": {},
   "outputs": [],
   "source": []
  },
  {
   "cell_type": "code",
   "execution_count": null,
   "id": "8f96e2c1",
   "metadata": {},
   "outputs": [],
   "source": []
  },
  {
   "cell_type": "code",
   "execution_count": null,
   "id": "4553d130",
   "metadata": {},
   "outputs": [],
   "source": [
    "X_train, X_test, y_train, y_test = train_test_split(data.MESSAGE, data.CATEGORY, test_size=0.3, random_state=43)"
   ]
  },
  {
   "cell_type": "code",
   "execution_count": null,
   "id": "147ed0ca",
   "metadata": {},
   "outputs": [],
   "source": []
  },
  {
   "cell_type": "code",
   "execution_count": null,
   "id": "e6ca4869",
   "metadata": {},
   "outputs": [],
   "source": []
  },
  {
   "cell_type": "code",
   "execution_count": null,
   "id": "17522572",
   "metadata": {},
   "outputs": [],
   "source": []
  },
  {
   "cell_type": "code",
   "execution_count": null,
   "id": "798e43a1",
   "metadata": {},
   "outputs": [],
   "source": []
  },
  {
   "cell_type": "code",
   "execution_count": null,
   "id": "4bf63ede",
   "metadata": {},
   "outputs": [],
   "source": []
  },
  {
   "cell_type": "code",
   "execution_count": null,
   "id": "58d9c904",
   "metadata": {},
   "outputs": [],
   "source": []
  },
  {
   "cell_type": "code",
   "execution_count": null,
   "id": "d56036d5",
   "metadata": {},
   "outputs": [],
   "source": []
  },
  {
   "cell_type": "code",
   "execution_count": null,
   "id": "cb457f8a",
   "metadata": {},
   "outputs": [],
   "source": []
  },
  {
   "cell_type": "code",
   "execution_count": null,
   "id": "4294235a",
   "metadata": {},
   "outputs": [],
   "source": []
  },
  {
   "cell_type": "code",
   "execution_count": null,
   "id": "21decfa9",
   "metadata": {},
   "outputs": [],
   "source": []
  },
  {
   "cell_type": "code",
   "execution_count": null,
   "id": "b902ade6",
   "metadata": {},
   "outputs": [],
   "source": []
  },
  {
   "cell_type": "code",
   "execution_count": null,
   "id": "5ad21435",
   "metadata": {},
   "outputs": [],
   "source": []
  },
  {
   "cell_type": "code",
   "execution_count": null,
   "id": "5cb57efa",
   "metadata": {},
   "outputs": [],
   "source": []
  },
  {
   "cell_type": "code",
   "execution_count": null,
   "id": "fd10207b",
   "metadata": {},
   "outputs": [],
   "source": []
  },
  {
   "cell_type": "code",
   "execution_count": null,
   "id": "02e33208",
   "metadata": {},
   "outputs": [],
   "source": []
  },
  {
   "cell_type": "code",
   "execution_count": null,
   "id": "68bacdc4",
   "metadata": {},
   "outputs": [],
   "source": []
  },
  {
   "cell_type": "code",
   "execution_count": null,
   "id": "b7e33745",
   "metadata": {},
   "outputs": [],
   "source": []
  },
  {
   "cell_type": "code",
   "execution_count": null,
   "id": "43fc84b1",
   "metadata": {},
   "outputs": [],
   "source": []
  },
  {
   "cell_type": "code",
   "execution_count": null,
   "id": "0ec3b163",
   "metadata": {},
   "outputs": [],
   "source": []
  },
  {
   "cell_type": "code",
   "execution_count": null,
   "id": "22a4e272",
   "metadata": {},
   "outputs": [],
   "source": []
  },
  {
   "cell_type": "code",
   "execution_count": null,
   "id": "8a879b74",
   "metadata": {},
   "outputs": [],
   "source": []
  },
  {
   "cell_type": "code",
   "execution_count": null,
   "id": "4fbbd64f",
   "metadata": {},
   "outputs": [],
   "source": []
  },
  {
   "cell_type": "code",
   "execution_count": null,
   "id": "4261aff8",
   "metadata": {},
   "outputs": [],
   "source": []
  }
 ],
 "metadata": {
  "kernelspec": {
   "display_name": "Python 3",
   "language": "python",
   "name": "python3"
  },
  "language_info": {
   "codemirror_mode": {
    "name": "ipython",
    "version": 3
   },
   "file_extension": ".py",
   "mimetype": "text/x-python",
   "name": "python",
   "nbconvert_exporter": "python",
   "pygments_lexer": "ipython3",
   "version": "3.8.8"
  }
 },
 "nbformat": 4,
 "nbformat_minor": 5
}
