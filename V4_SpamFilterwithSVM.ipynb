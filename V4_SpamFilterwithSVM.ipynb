{
 "cells": [
  {
   "cell_type": "markdown",
   "id": "fb0e69e6",
   "metadata": {},
   "source": [
    "## Imports"
   ]
  },
  {
   "cell_type": "code",
   "execution_count": 168,
   "id": "c440f372",
   "metadata": {},
   "outputs": [],
   "source": [
    "from os import walk \n",
    "from os.path import join\n",
    "import numpy as np \n",
    "import pandas as pd\n",
    "import nltk\n",
    "from nltk.corpus import stopwords\n",
    "from nltk.tokenize import word_tokenize\n",
    "from bs4 import BeautifulSoup \n",
    "\n",
    "from sklearn import svm\n",
    "from sklearn.feature_extraction import text\n",
    "from sklearn.feature_extraction.text import CountVectorizer, TfidfTransformer, TfidfVectorizer\n",
    "from sklearn.model_selection import GridSearchCV, train_test_split\n",
    "from sklearn.linear_model import SGDClassifier\n",
    "from sklearn.metrics import classification_report\n",
    "\n",
    "import gensim\n",
    "import matplotlib.pyplot as plt\n",
    "import seaborn as sns"
   ]
  },
  {
   "cell_type": "markdown",
   "id": "5f9dd429",
   "metadata": {},
   "source": [
    "## File Paths"
   ]
  },
  {
   "cell_type": "code",
   "execution_count": 169,
   "id": "06df0dcf",
   "metadata": {},
   "outputs": [],
   "source": [
    "SPAM_1_FILEPATH = 'UniversityProject_SpamFilter/01_Processing/spam_assassin_corpus/spam_1'\n",
    "SPAM_2_FILEPATH = 'UniversityProject_SpamFilter/01_Processing/spam_assassin_corpus/spam_2'\n",
    "HAM_1_FILEPATH = 'UniversityProject_SpamFilter/01_Processing/spam_assassin_corpus/ham_1'\n",
    "HAM_2_FILEPATH = 'UniversityProject_SpamFilter/01_Processing/spam_assassin_corpus/ham_2'\n",
    "\n",
    "NEW_SPAM_1_FILEPATH = 'UniversityProject_SpamFilter/01_Processing/spam_assassin_corpus/new_spam_1'\n",
    "NEW_SPAM_2_FILEPATH = 'UniversityProject_SpamFilter/01_Processing/spam_assassin_corpus/new_spam_2'\n",
    "NEW_HAM_1_FILEPATH = 'UniversityProject_SpamFilter/01_Processing/spam_assassin_corpus/new_ham_1'\n",
    "NEW_HAM_2_FILEPATH = 'UniversityProject_SpamFilter/01_Processing/spam_assassin_corpus/new_ham_2'\n",
    "\n",
    "SPAM_CAT = 1\n",
    "HAM_CAT = 0\n",
    "\n",
    "DATA_JSON_FILE = 'UniversityProject_SpamFilter/01_Processing/Email_Text_Data.json'\n",
    "VALIDATION_FILEPATH = 'UniversityProject_SpamFilter/validation_emails.json'\n",
    "VALIDATION_DATA = 'UniversityProject_SpamFilter/Validation_Data.csv '"
   ]
  },
  {
   "cell_type": "markdown",
   "id": "77bf4402",
   "metadata": {},
   "source": [
    "## Clean the Messages & Filter out Stop Words"
   ]
  },
  {
   "cell_type": "code",
   "execution_count": 170,
   "id": "10f7857b",
   "metadata": {},
   "outputs": [],
   "source": [
    "def email_body_generator(path): \n",
    "                                    #walk provides a tuple \n",
    "    for root, dirnames, filenames, in walk(path):\n",
    "        for file_name in filenames:\n",
    "            \n",
    "            filepath = join(root, file_name)\n",
    "            stream = open(filepath, encoding='latin-1')\n",
    "            is_body= False\n",
    "            lines = []\n",
    "            \n",
    "            #extracts email body \n",
    "            for line in stream: \n",
    "                if is_body: \n",
    "                    lines.append(line)\n",
    "                elif line == '\\n':\n",
    "                    is_body = True\n",
    "\n",
    "            stream.close()\n",
    "\n",
    "            email_body = '\\n'.join(lines)\n",
    "            \n",
    "            #loops over the file in the directory and returns the file name and associated email body \n",
    "            yield file_name, email_body"
   ]
  },
  {
   "cell_type": "code",
   "execution_count": 171,
   "id": "0cbc6ed5",
   "metadata": {},
   "outputs": [],
   "source": [
    "def dataframe_from_directory(path, classification):\n",
    "    rows = []\n",
    "    row_names = []\n",
    "    \n",
    "    for file_name, email_body in email_body_generator(path):\n",
    "        rows.append({'MESSAGE': email_body, 'CATEGORY': classification})\n",
    "        row_names.append(file_name) \n",
    "    \n",
    "    return pd.DataFrame(rows, index=row_names) "
   ]
  },
  {
   "cell_type": "code",
   "execution_count": 172,
   "id": "2daf7b2f",
   "metadata": {},
   "outputs": [],
   "source": [
    "spam_emails = dataframe_from_directory(SPAM_1_FILEPATH, SPAM_CAT)\n",
    "spam_emails = spam_emails.append(dataframe_from_directory(SPAM_2_FILEPATH, SPAM_CAT))\n",
    "ham_emails = dataframe_from_directory(HAM_1_FILEPATH, HAM_CAT)\n",
    "ham_emails = ham_emails.append(dataframe_from_directory(HAM_2_FILEPATH, HAM_CAT))"
   ]
  },
  {
   "cell_type": "code",
   "execution_count": 173,
   "id": "99243289",
   "metadata": {},
   "outputs": [],
   "source": [
    "data = pd.concat([spam_emails, ham_emails])"
   ]
  },
  {
   "cell_type": "code",
   "execution_count": 174,
   "id": "1094e318",
   "metadata": {},
   "outputs": [
    {
     "data": {
      "text/plain": [
       "Index(['cmds', 'cmds', 'cmds'], dtype='object')"
      ]
     },
     "execution_count": 174,
     "metadata": {},
     "output_type": "execute_result"
    }
   ],
   "source": [
    "data[data.MESSAGE.str.len() == 0].index"
   ]
  },
  {
   "cell_type": "code",
   "execution_count": 175,
   "id": "3e91745d",
   "metadata": {},
   "outputs": [],
   "source": [
    "data.drop(['cmds'], inplace = True)"
   ]
  },
  {
   "cell_type": "code",
   "execution_count": 176,
   "id": "e7a7426d",
   "metadata": {},
   "outputs": [],
   "source": [
    "#data.describe()"
   ]
  },
  {
   "cell_type": "code",
   "execution_count": 177,
   "id": "d55363b3",
   "metadata": {},
   "outputs": [
    {
     "data": {
      "text/html": [
       "<div>\n",
       "<style scoped>\n",
       "    .dataframe tbody tr th:only-of-type {\n",
       "        vertical-align: middle;\n",
       "    }\n",
       "\n",
       "    .dataframe tbody tr th {\n",
       "        vertical-align: top;\n",
       "    }\n",
       "\n",
       "    .dataframe thead th {\n",
       "        text-align: right;\n",
       "    }\n",
       "</style>\n",
       "<table border=\"1\" class=\"dataframe\">\n",
       "  <thead>\n",
       "    <tr style=\"text-align: right;\">\n",
       "      <th></th>\n",
       "      <th>MESSAGE</th>\n",
       "      <th>CATEGORY</th>\n",
       "      <th>length</th>\n",
       "    </tr>\n",
       "  </thead>\n",
       "  <tbody>\n",
       "    <tr>\n",
       "      <th>00249.5f45607c1bffe89f60ba1ec9f878039a</th>\n",
       "      <td>Dear Homeowner,\\n\\n \\n\\nInterest Rates are at ...</td>\n",
       "      <td>1</td>\n",
       "      <td>612</td>\n",
       "    </tr>\n",
       "    <tr>\n",
       "      <th>00373.ebe8670ac56b04125c25100a36ab0510</th>\n",
       "      <td>ATTENTION: This is a MUST for ALL Computer Use...</td>\n",
       "      <td>1</td>\n",
       "      <td>1298</td>\n",
       "    </tr>\n",
       "    <tr>\n",
       "      <th>00214.1367039e50dc6b7adb0f2aa8aba83216</th>\n",
       "      <td>This is a multi-part message in MIME format.\\n...</td>\n",
       "      <td>1</td>\n",
       "      <td>6691</td>\n",
       "    </tr>\n",
       "    <tr>\n",
       "      <th>00210.050ffd105bd4e006771ee63cabc59978</th>\n",
       "      <td>IMPORTANT INFORMATION:\\n\\n\\n\\nThe new domain n...</td>\n",
       "      <td>1</td>\n",
       "      <td>1141</td>\n",
       "    </tr>\n",
       "    <tr>\n",
       "      <th>00033.9babb58d9298daa2963d4f514193d7d6</th>\n",
       "      <td>This is the bottom line.  If you can GIVE AWAY...</td>\n",
       "      <td>1</td>\n",
       "      <td>1795</td>\n",
       "    </tr>\n",
       "    <tr>\n",
       "      <th>...</th>\n",
       "      <td>...</td>\n",
       "      <td>...</td>\n",
       "      <td>...</td>\n",
       "    </tr>\n",
       "    <tr>\n",
       "      <th>00609.dd49926ce94a1ea328cce9b62825bc97</th>\n",
       "      <td>I'm one of the 30,000 but it's not working ver...</td>\n",
       "      <td>0</td>\n",
       "      <td>953</td>\n",
       "    </tr>\n",
       "    <tr>\n",
       "      <th>00957.e0b56b117f3ec5f85e432a9d2a47801f</th>\n",
       "      <td>Damien Morton quoted:\\n\\n&gt;W3C approves HTML 4 ...</td>\n",
       "      <td>0</td>\n",
       "      <td>257</td>\n",
       "    </tr>\n",
       "    <tr>\n",
       "      <th>01127.841233b48eceb74a825417d8d918abf8</th>\n",
       "      <td>On Mon, 2002-07-22 at 06:50, che wrote:\\n\\n\\n\\...</td>\n",
       "      <td>0</td>\n",
       "      <td>393</td>\n",
       "    </tr>\n",
       "    <tr>\n",
       "      <th>01178.5c977dff972cd6eef64d4173b90307f0</th>\n",
       "      <td>Once upon a time, Manfred wrote :\\n\\n\\n\\n&gt; I w...</td>\n",
       "      <td>0</td>\n",
       "      <td>1434</td>\n",
       "    </tr>\n",
       "    <tr>\n",
       "      <th>00747.352d424267d36975a7b40b85ffd0885e</th>\n",
       "      <td>If you run Pick, and then use the \"New FTOC\" b...</td>\n",
       "      <td>0</td>\n",
       "      <td>866</td>\n",
       "    </tr>\n",
       "  </tbody>\n",
       "</table>\n",
       "<p>5796 rows × 3 columns</p>\n",
       "</div>"
      ],
      "text/plain": [
       "                                                                                  MESSAGE  \\\n",
       "00249.5f45607c1bffe89f60ba1ec9f878039a  Dear Homeowner,\\n\\n \\n\\nInterest Rates are at ...   \n",
       "00373.ebe8670ac56b04125c25100a36ab0510  ATTENTION: This is a MUST for ALL Computer Use...   \n",
       "00214.1367039e50dc6b7adb0f2aa8aba83216  This is a multi-part message in MIME format.\\n...   \n",
       "00210.050ffd105bd4e006771ee63cabc59978  IMPORTANT INFORMATION:\\n\\n\\n\\nThe new domain n...   \n",
       "00033.9babb58d9298daa2963d4f514193d7d6  This is the bottom line.  If you can GIVE AWAY...   \n",
       "...                                                                                   ...   \n",
       "00609.dd49926ce94a1ea328cce9b62825bc97  I'm one of the 30,000 but it's not working ver...   \n",
       "00957.e0b56b117f3ec5f85e432a9d2a47801f  Damien Morton quoted:\\n\\n>W3C approves HTML 4 ...   \n",
       "01127.841233b48eceb74a825417d8d918abf8  On Mon, 2002-07-22 at 06:50, che wrote:\\n\\n\\n\\...   \n",
       "01178.5c977dff972cd6eef64d4173b90307f0  Once upon a time, Manfred wrote :\\n\\n\\n\\n> I w...   \n",
       "00747.352d424267d36975a7b40b85ffd0885e  If you run Pick, and then use the \"New FTOC\" b...   \n",
       "\n",
       "                                        CATEGORY  length  \n",
       "00249.5f45607c1bffe89f60ba1ec9f878039a         1     612  \n",
       "00373.ebe8670ac56b04125c25100a36ab0510         1    1298  \n",
       "00214.1367039e50dc6b7adb0f2aa8aba83216         1    6691  \n",
       "00210.050ffd105bd4e006771ee63cabc59978         1    1141  \n",
       "00033.9babb58d9298daa2963d4f514193d7d6         1    1795  \n",
       "...                                          ...     ...  \n",
       "00609.dd49926ce94a1ea328cce9b62825bc97         0     953  \n",
       "00957.e0b56b117f3ec5f85e432a9d2a47801f         0     257  \n",
       "01127.841233b48eceb74a825417d8d918abf8         0     393  \n",
       "01178.5c977dff972cd6eef64d4173b90307f0         0    1434  \n",
       "00747.352d424267d36975a7b40b85ffd0885e         0     866  \n",
       "\n",
       "[5796 rows x 3 columns]"
      ]
     },
     "execution_count": 177,
     "metadata": {},
     "output_type": "execute_result"
    }
   ],
   "source": [
    "data['length']=data['MESSAGE'].apply(len)\n",
    "data"
   ]
  },
  {
   "cell_type": "code",
   "execution_count": 178,
   "id": "c1b45d3c",
   "metadata": {},
   "outputs": [],
   "source": [
    "#data['length'].describe()"
   ]
  },
  {
   "cell_type": "code",
   "execution_count": 218,
   "id": "2eb373bc",
   "metadata": {},
   "outputs": [
    {
     "data": {
      "image/png": "[encoded data removed]",
      "text/plain": [
       "<Figure size 432x288 with 1 Axes>"
      ]
     },
     "metadata": {
      "needs_background": "light"
     },
     "output_type": "display_data"
    }
   ],
   "source": [
    "data['length'].plot(bins=50,kind='hist').set_title(\"Length of the character in the Text\")\n",
    "plt.savefig('Length of the character in the Text.png')"
   ]
  },
  {
   "cell_type": "code",
   "execution_count": 220,
   "id": "39895a0f",
   "metadata": {},
   "outputs": [
    {
     "name": "stdout",
     "output_type": "stream",
     "text": [
      "['fighting', 'traffic', 'ticket', 'going', 'divorce', 'you', 'need', 'attorney', 'take', 'care', 'legal', 'needs', 'pennies', 'day', 'legal', 'services', 'send', 'email', 'information', 'there', 'is', 'no', 'obligation', 'serious', 'enquiries', 'only', 'please', 'include', 'name', 'phone', 'or', 'info', 'sent', 'email', 'put', 'legal', 'assistance', 'in', 'subject', 'disclaimer', 'note', 'this', 'spam', 'you', 'receiving', 'previously', 'requested', 'info', 'business', 'opportunity', 'shared', 'safe', 'list', 'exchanged', 'business', 'opportunities', 'past', 'if', 'longer', 'interested', 'exchanging', 'business', 'opportunities', 'send', 'email']\n"
     ]
    }
   ],
   "source": [
    "print(data[data['length']==910]['MESSAGE'].iloc[0]"
   ]
  },
  {
   "cell_type": "code",
   "execution_count": 223,
   "id": "987f7605",
   "metadata": {},
   "outputs": [
    {
     "data": {
      "text/html": [
       "<div>\n",
       "<style scoped>\n",
       "    .dataframe tbody tr th:only-of-type {\n",
       "        vertical-align: middle;\n",
       "    }\n",
       "\n",
       "    .dataframe tbody tr th {\n",
       "        vertical-align: top;\n",
       "    }\n",
       "\n",
       "    .dataframe thead th {\n",
       "        text-align: right;\n",
       "    }\n",
       "</style>\n",
       "<table border=\"1\" class=\"dataframe\">\n",
       "  <thead>\n",
       "    <tr style=\"text-align: right;\">\n",
       "      <th></th>\n",
       "      <th>MESSAGE</th>\n",
       "      <th>CATEGORY</th>\n",
       "      <th>length</th>\n",
       "      <th>File_Name</th>\n",
       "    </tr>\n",
       "    <tr>\n",
       "      <th>Doc_ID</th>\n",
       "      <th></th>\n",
       "      <th></th>\n",
       "      <th></th>\n",
       "      <th></th>\n",
       "    </tr>\n",
       "  </thead>\n",
       "  <tbody>\n",
       "    <tr>\n",
       "      <th>0</th>\n",
       "      <td>[dear, homeowner, interest, rates, lowest, poi...</td>\n",
       "      <td>1</td>\n",
       "      <td>612</td>\n",
       "      <td>0</td>\n",
       "    </tr>\n",
       "    <tr>\n",
       "      <th>1</th>\n",
       "      <td>[attention, this, must, all, computer, users, ...</td>\n",
       "      <td>1</td>\n",
       "      <td>1298</td>\n",
       "      <td>1</td>\n",
       "    </tr>\n",
       "    <tr>\n",
       "      <th>2</th>\n",
       "      <td>[this, message, mime, format, we, dare, try, b...</td>\n",
       "      <td>1</td>\n",
       "      <td>6691</td>\n",
       "      <td>2</td>\n",
       "    </tr>\n",
       "    <tr>\n",
       "      <th>3</th>\n",
       "      <td>[important, information, the, new, domain, nam...</td>\n",
       "      <td>1</td>\n",
       "      <td>1141</td>\n",
       "      <td>3</td>\n",
       "    </tr>\n",
       "    <tr>\n",
       "      <th>4</th>\n",
       "      <td>[this, line, if, give, away, cd, free, people,...</td>\n",
       "      <td>1</td>\n",
       "      <td>1795</td>\n",
       "      <td>4</td>\n",
       "    </tr>\n",
       "  </tbody>\n",
       "</table>\n",
       "</div>"
      ],
      "text/plain": [
       "                                                  MESSAGE  CATEGORY  length  \\\n",
       "Doc_ID                                                                        \n",
       "0       [dear, homeowner, interest, rates, lowest, poi...         1     612   \n",
       "1       [attention, this, must, all, computer, users, ...         1    1298   \n",
       "2       [this, message, mime, format, we, dare, try, b...         1    6691   \n",
       "3       [important, information, the, new, domain, nam...         1    1141   \n",
       "4       [this, line, if, give, away, cd, free, people,...         1    1795   \n",
       "\n",
       "        File_Name  \n",
       "Doc_ID             \n",
       "0               0  \n",
       "1               1  \n",
       "2               2  \n",
       "3               3  \n",
       "4               4  "
      ]
     },
     "execution_count": 223,
     "metadata": {},
     "output_type": "execute_result"
    }
   ],
   "source": [
    "documents_ids = range(0, len(data.index))\n",
    "data['Doc_ID'] = documents_ids\n",
    "data['File_Name'] = data.index\n",
    "data = data.set_index('Doc_ID')\n",
    "data.head() "
   ]
  },
  {
   "cell_type": "code",
   "execution_count": null,
   "id": "82f7411c",
   "metadata": {},
   "outputs": [],
   "source": []
  },
  {
   "cell_type": "code",
   "execution_count": 182,
   "id": "65b0fe59",
   "metadata": {},
   "outputs": [
    {
     "data": {
      "text/plain": [
       "318"
      ]
     },
     "execution_count": 182,
     "metadata": {},
     "output_type": "execute_result"
    }
   ],
   "source": [
    "sklearn_stopwords = text.ENGLISH_STOP_WORDS\n",
    "sklearn_sw = set(sklearn_stopwords)\n",
    "len(sklearn_sw)"
   ]
  },
  {
   "cell_type": "code",
   "execution_count": 183,
   "id": "83ce610a",
   "metadata": {},
   "outputs": [
    {
     "data": {
      "text/plain": [
       "337"
      ]
     },
     "execution_count": 183,
     "metadata": {},
     "output_type": "execute_result"
    }
   ],
   "source": [
    "\n",
    "gensim_stopwords = gensim.parsing.preprocessing.STOPWORDS\n",
    "genism_sw = set(gensim_stopwords)\n",
    "#print(genism_sw)\n",
    "len(genism_sw)"
   ]
  },
  {
   "cell_type": "code",
   "execution_count": 184,
   "id": "bef9e995",
   "metadata": {},
   "outputs": [
    {
     "data": {
      "text/plain": [
       "337"
      ]
     },
     "execution_count": 184,
     "metadata": {},
     "output_type": "execute_result"
    }
   ],
   "source": [
    "gensim_and_sklearn = sklearn_sw.union(genism_sw)\n",
    "len(gensim_and_sklearn)"
   ]
  },
  {
   "cell_type": "code",
   "execution_count": 185,
   "id": "b6168ef6",
   "metadata": {},
   "outputs": [
    {
     "data": {
      "text/plain": [
       "179"
      ]
     },
     "execution_count": 185,
     "metadata": {},
     "output_type": "execute_result"
    }
   ],
   "source": [
    "nltk_stop_words = stopwords.words('english')\n",
    "len(nltk_stop_words)"
   ]
  },
  {
   "cell_type": "code",
   "execution_count": 186,
   "id": "11b6eef5",
   "metadata": {},
   "outputs": [],
   "source": [
    "libary_stopwords = gensim_and_sklearn.union(nltk_stop_words)"
   ]
  },
  {
   "cell_type": "code",
   "execution_count": 187,
   "id": "fbcf922d",
   "metadata": {},
   "outputs": [],
   "source": [
    "all_stop_words = {'url', 'http', '\\n' }\n",
    "all_stop_words.update(libary_stopwords)\n",
    "#print(all_stop_words)"
   ]
  },
  {
   "cell_type": "code",
   "execution_count": 188,
   "id": "7d86c5a0",
   "metadata": {},
   "outputs": [
    {
     "data": {
      "text/plain": [
       "set"
      ]
     },
     "execution_count": 188,
     "metadata": {},
     "output_type": "execute_result"
    }
   ],
   "source": [
    "type(all_stop_words)"
   ]
  },
  {
   "cell_type": "markdown",
   "id": "b9854434",
   "metadata": {},
   "source": [
    "## Split the Data"
   ]
  },
  {
   "cell_type": "code",
   "execution_count": 189,
   "id": "4e1fc949",
   "metadata": {},
   "outputs": [],
   "source": [
    "X_train, X_test, y_train, y_test = train_test_split(data.MESSAGE, data.CATEGORY, test_size=0.3, random_state=43)"
   ]
  },
  {
   "cell_type": "code",
   "execution_count": 190,
   "id": "ce248564",
   "metadata": {},
   "outputs": [],
   "source": [
    "# X_train.apply(clean_msg_nohtml)\n",
    "# X_test.apply(clean_msg_nohtml)\n",
    "# y_train.apply(clean_msg_nohtml)\n",
    "# y_test.apply(clean_msg_nohtml)\n"
   ]
  },
  {
   "cell_type": "code",
   "execution_count": 191,
   "id": "6d7aba5f",
   "metadata": {},
   "outputs": [],
   "source": [
    "#y_test.apply(clean_msg_nohtml)"
   ]
  },
  {
   "cell_type": "markdown",
   "id": "52f3f83a",
   "metadata": {},
   "source": [
    "## Convert to Vector"
   ]
  },
  {
   "cell_type": "code",
   "execution_count": 192,
   "id": "4cd492dd",
   "metadata": {},
   "outputs": [],
   "source": [
    "tfidf_vectorizer = TfidfVectorizer(stop_words=all_stop_words, max_df=0.25)\n",
    "tfidf_train = tfidf_vectorizer.fit_transform(X_train)\n",
    "tfidf_test = tfidf_vectorizer.transform(X_test)"
   ]
  },
  {
   "cell_type": "code",
   "execution_count": 193,
   "id": "a90008f0",
   "metadata": {},
   "outputs": [
    {
     "data": {
      "text/plain": [
       "<5x86575 sparse matrix of type '<class 'numpy.float64'>'\n",
       "\twith 437 stored elements in Compressed Sparse Row format>"
      ]
     },
     "execution_count": 193,
     "metadata": {},
     "output_type": "execute_result"
    }
   ],
   "source": [
    "tfidf_train[:5]"
   ]
  },
  {
   "cell_type": "markdown",
   "id": "c2a5e29d",
   "metadata": {},
   "source": [
    "## Defining and training SVM model "
   ]
  },
  {
   "cell_type": "code",
   "execution_count": 194,
   "id": "6165f872",
   "metadata": {},
   "outputs": [],
   "source": [
    "spam_detector_svc = SGDClassifier().fit(tfidf_train, y_train)"
   ]
  },
  {
   "cell_type": "markdown",
   "id": "123a22c4",
   "metadata": {},
   "source": [
    "## Predicting the Label Values for Spam/Ham"
   ]
  },
  {
   "cell_type": "code",
   "execution_count": 195,
   "id": "54155450",
   "metadata": {},
   "outputs": [
    {
     "data": {
      "text/plain": [
       "array([0, 0, 0, ..., 0, 1, 0])"
      ]
     },
     "execution_count": 195,
     "metadata": {},
     "output_type": "execute_result"
    }
   ],
   "source": [
    "predictions = spam_detector_svc.predict(tfidf_test)\n",
    "predictions"
   ]
  },
  {
   "cell_type": "code",
   "execution_count": 196,
   "id": "13f1e0a1",
   "metadata": {},
   "outputs": [
    {
     "name": "stdout",
     "output_type": "stream",
     "text": [
      "              precision    recall  f1-score   support\n",
      "\n",
      "           0       0.99      1.00      0.99      1170\n",
      "           1       1.00      0.98      0.99       569\n",
      "\n",
      "    accuracy                           0.99      1739\n",
      "   macro avg       0.99      0.99      0.99      1739\n",
      "weighted avg       0.99      0.99      0.99      1739\n",
      "\n"
     ]
    }
   ],
   "source": [
    "print(classification_report(y_test, predictions))"
   ]
  },
  {
   "cell_type": "code",
   "execution_count": 197,
   "id": "760f1a5e",
   "metadata": {},
   "outputs": [
    {
     "name": "stdout",
     "output_type": "stream",
     "text": [
      "Docs classified correctly 1725\n",
      "Docs classified incorrectly 14\n"
     ]
    }
   ],
   "source": [
    "correct_doc = (y_test == predictions).sum()\n",
    "numbs_doc_wrong = X_test.shape[0] - correct_doc\n",
    "\n",
    "print('Docs classified correctly', correct_doc)\n",
    "print('Docs classified incorrectly', numbs_doc_wrong)"
   ]
  },
  {
   "cell_type": "code",
   "execution_count": 198,
   "id": "75895a03",
   "metadata": {},
   "outputs": [
    {
     "name": "stdout",
     "output_type": "stream",
     "text": [
      " The (testing) accuracy of the model is 99.195%\n"
     ]
    }
   ],
   "source": [
    "fraction_wrong = numbs_doc_wrong/ (correct_doc +numbs_doc_wrong)\n",
    "print(f' The (testing) accuracy of the model is {1-fraction_wrong:.3%}')"
   ]
  },
  {
   "cell_type": "code",
   "execution_count": null,
   "id": "b6c52afa",
   "metadata": {},
   "outputs": [],
   "source": []
  },
  {
   "cell_type": "code",
   "execution_count": 202,
   "id": "3e1fce12",
   "metadata": {},
   "outputs": [],
   "source": [
    "def clean_message(message, \n",
    "                  stop_words = all_stop_words): \n",
    "    \n",
    "    #Converts to lower case and splots up  the individual words\n",
    "    words = word_tokenize(message.lower())\n",
    "    \n",
    "    filtered_words = []\n",
    "    \n",
    "    for word in words: \n",
    "        if word not in stop_words and word.isalpha():\n",
    "            filtered_words.append(word)\n",
    "    \n",
    "    \n",
    "    return filtered_words"
   ]
  },
  {
   "cell_type": "code",
   "execution_count": null,
   "id": "f79db866",
   "metadata": {},
   "outputs": [],
   "source": []
  },
  {
   "cell_type": "code",
   "execution_count": 205,
   "id": "86774be6",
   "metadata": {},
   "outputs": [
    {
     "data": {
      "text/plain": [
       "['kysrkysrkysrkysrkysrkysrkysrkysrkysrkysrkysrkysrkysrkysrkysr']"
      ]
     },
     "execution_count": 205,
     "metadata": {},
     "output_type": "execute_result"
    }
   ],
   "source": [
    "data.MESSAGE[5]"
   ]
  },
  {
   "cell_type": "code",
   "execution_count": 204,
   "id": "2b9db15f",
   "metadata": {},
   "outputs": [],
   "source": [
    "data.MESSAGE = data.MESSAGE.apply(clean_message)"
   ]
  },
  {
   "cell_type": "code",
   "execution_count": 206,
   "id": "43a4f2cd",
   "metadata": {},
   "outputs": [
    {
     "data": {
      "text/html": [
       "<div>\n",
       "<style scoped>\n",
       "    .dataframe tbody tr th:only-of-type {\n",
       "        vertical-align: middle;\n",
       "    }\n",
       "\n",
       "    .dataframe tbody tr th {\n",
       "        vertical-align: top;\n",
       "    }\n",
       "\n",
       "    .dataframe thead tr th {\n",
       "        text-align: left;\n",
       "    }\n",
       "\n",
       "    .dataframe thead tr:last-of-type th {\n",
       "        text-align: right;\n",
       "    }\n",
       "</style>\n",
       "<table border=\"1\" class=\"dataframe\">\n",
       "  <thead>\n",
       "    <tr>\n",
       "      <th></th>\n",
       "      <th colspan=\"8\" halign=\"left\">length</th>\n",
       "    </tr>\n",
       "    <tr>\n",
       "      <th></th>\n",
       "      <th>count</th>\n",
       "      <th>mean</th>\n",
       "      <th>std</th>\n",
       "      <th>min</th>\n",
       "      <th>25%</th>\n",
       "      <th>50%</th>\n",
       "      <th>75%</th>\n",
       "      <th>max</th>\n",
       "    </tr>\n",
       "    <tr>\n",
       "      <th>CATEGORY</th>\n",
       "      <th></th>\n",
       "      <th></th>\n",
       "      <th></th>\n",
       "      <th></th>\n",
       "      <th></th>\n",
       "      <th></th>\n",
       "      <th></th>\n",
       "      <th></th>\n",
       "    </tr>\n",
       "  </thead>\n",
       "  <tbody>\n",
       "    <tr>\n",
       "      <th>0</th>\n",
       "      <td>3900.0</td>\n",
       "      <td>1615.114359</td>\n",
       "      <td>3890.48116</td>\n",
       "      <td>54.0</td>\n",
       "      <td>545.75</td>\n",
       "      <td>987.0</td>\n",
       "      <td>1640.00</td>\n",
       "      <td>110372.0</td>\n",
       "    </tr>\n",
       "    <tr>\n",
       "      <th>1</th>\n",
       "      <td>1896.0</td>\n",
       "      <td>5178.556435</td>\n",
       "      <td>10372.98178</td>\n",
       "      <td>36.0</td>\n",
       "      <td>1113.75</td>\n",
       "      <td>2543.5</td>\n",
       "      <td>5730.25</td>\n",
       "      <td>234358.0</td>\n",
       "    </tr>\n",
       "  </tbody>\n",
       "</table>\n",
       "</div>"
      ],
      "text/plain": [
       "          length                                                            \\\n",
       "           count         mean          std   min      25%     50%      75%   \n",
       "CATEGORY                                                                     \n",
       "0         3900.0  1615.114359   3890.48116  54.0   545.75   987.0  1640.00   \n",
       "1         1896.0  5178.556435  10372.98178  36.0  1113.75  2543.5  5730.25   \n",
       "\n",
       "                    \n",
       "               max  \n",
       "CATEGORY            \n",
       "0         110372.0  \n",
       "1         234358.0  "
      ]
     },
     "execution_count": 206,
     "metadata": {},
     "output_type": "execute_result"
    }
   ],
   "source": [
    "data.groupby('CATEGORY').describe()"
   ]
  },
  {
   "cell_type": "code",
   "execution_count": 207,
   "id": "ca1b2a86",
   "metadata": {},
   "outputs": [
    {
     "data": {
      "text/html": [
       "<div>\n",
       "<style scoped>\n",
       "    .dataframe tbody tr th:only-of-type {\n",
       "        vertical-align: middle;\n",
       "    }\n",
       "\n",
       "    .dataframe tbody tr th {\n",
       "        vertical-align: top;\n",
       "    }\n",
       "\n",
       "    .dataframe thead th {\n",
       "        text-align: right;\n",
       "    }\n",
       "</style>\n",
       "<table border=\"1\" class=\"dataframe\">\n",
       "  <thead>\n",
       "    <tr style=\"text-align: right;\">\n",
       "      <th></th>\n",
       "      <th>MESSAGE</th>\n",
       "      <th>CATEGORY</th>\n",
       "      <th>length</th>\n",
       "      <th>File_Name</th>\n",
       "    </tr>\n",
       "    <tr>\n",
       "      <th>Doc_ID</th>\n",
       "      <th></th>\n",
       "      <th></th>\n",
       "      <th></th>\n",
       "      <th></th>\n",
       "    </tr>\n",
       "  </thead>\n",
       "  <tbody>\n",
       "    <tr>\n",
       "      <th>0</th>\n",
       "      <td>[dear, homeowner, interest, rates, lowest, poi...</td>\n",
       "      <td>1</td>\n",
       "      <td>612</td>\n",
       "      <td>00249.5f45607c1bffe89f60ba1ec9f878039a</td>\n",
       "    </tr>\n",
       "    <tr>\n",
       "      <th>1</th>\n",
       "      <td>[attention, this, must, all, computer, users, ...</td>\n",
       "      <td>1</td>\n",
       "      <td>1298</td>\n",
       "      <td>00373.ebe8670ac56b04125c25100a36ab0510</td>\n",
       "    </tr>\n",
       "    <tr>\n",
       "      <th>2</th>\n",
       "      <td>[this, message, mime, format, we, dare, try, b...</td>\n",
       "      <td>1</td>\n",
       "      <td>6691</td>\n",
       "      <td>00214.1367039e50dc6b7adb0f2aa8aba83216</td>\n",
       "    </tr>\n",
       "    <tr>\n",
       "      <th>3</th>\n",
       "      <td>[important, information, the, new, domain, nam...</td>\n",
       "      <td>1</td>\n",
       "      <td>1141</td>\n",
       "      <td>00210.050ffd105bd4e006771ee63cabc59978</td>\n",
       "    </tr>\n",
       "    <tr>\n",
       "      <th>4</th>\n",
       "      <td>[this, line, if, give, away, cd, free, people,...</td>\n",
       "      <td>1</td>\n",
       "      <td>1795</td>\n",
       "      <td>00033.9babb58d9298daa2963d4f514193d7d6</td>\n",
       "    </tr>\n",
       "  </tbody>\n",
       "</table>\n",
       "</div>"
      ],
      "text/plain": [
       "                                                  MESSAGE  CATEGORY  length  \\\n",
       "Doc_ID                                                                        \n",
       "0       [dear, homeowner, interest, rates, lowest, poi...         1     612   \n",
       "1       [attention, this, must, all, computer, users, ...         1    1298   \n",
       "2       [this, message, mime, format, we, dare, try, b...         1    6691   \n",
       "3       [important, information, the, new, domain, nam...         1    1141   \n",
       "4       [this, line, if, give, away, cd, free, people,...         1    1795   \n",
       "\n",
       "                                     File_Name  \n",
       "Doc_ID                                          \n",
       "0       00249.5f45607c1bffe89f60ba1ec9f878039a  \n",
       "1       00373.ebe8670ac56b04125c25100a36ab0510  \n",
       "2       00214.1367039e50dc6b7adb0f2aa8aba83216  \n",
       "3       00210.050ffd105bd4e006771ee63cabc59978  \n",
       "4       00033.9babb58d9298daa2963d4f514193d7d6  "
      ]
     },
     "execution_count": 207,
     "metadata": {},
     "output_type": "execute_result"
    }
   ],
   "source": [
    "#Extract SPAM messages\n",
    "spam_messages = data[data['CATEGORY']==SPAM_CAT]\n",
    "\n",
    "spam_messages.head() #Display first 5 rows of SPAM messages"
   ]
  },
  {
   "cell_type": "code",
   "execution_count": 208,
   "id": "83152d17",
   "metadata": {},
   "outputs": [
    {
     "data": {
      "text/html": [
       "<div>\n",
       "<style scoped>\n",
       "    .dataframe tbody tr th:only-of-type {\n",
       "        vertical-align: middle;\n",
       "    }\n",
       "\n",
       "    .dataframe tbody tr th {\n",
       "        vertical-align: top;\n",
       "    }\n",
       "\n",
       "    .dataframe thead th {\n",
       "        text-align: right;\n",
       "    }\n",
       "</style>\n",
       "<table border=\"1\" class=\"dataframe\">\n",
       "  <thead>\n",
       "    <tr style=\"text-align: right;\">\n",
       "      <th></th>\n",
       "      <th>MESSAGE</th>\n",
       "      <th>CATEGORY</th>\n",
       "      <th>length</th>\n",
       "      <th>File_Name</th>\n",
       "    </tr>\n",
       "    <tr>\n",
       "      <th>Doc_ID</th>\n",
       "      <th></th>\n",
       "      <th></th>\n",
       "      <th></th>\n",
       "      <th></th>\n",
       "    </tr>\n",
       "  </thead>\n",
       "  <tbody>\n",
       "    <tr>\n",
       "      <th>1896</th>\n",
       "      <td>[in, message, dated, am, jamesr, writes, this,...</td>\n",
       "      <td>0</td>\n",
       "      <td>1386</td>\n",
       "      <td>00769.25bf9a767b5db0ed93f03c1637281663</td>\n",
       "    </tr>\n",
       "    <tr>\n",
       "      <th>1897</th>\n",
       "      <td>[hiya, i, errors, i, apt, update, problem, rep...</td>\n",
       "      <td>0</td>\n",
       "      <td>1878</td>\n",
       "      <td>01074.8590d61ac0aeeadb58dc2f2ba776c406</td>\n",
       "    </tr>\n",
       "    <tr>\n",
       "      <th>1898</th>\n",
       "      <td>[i, know, expect, better, secure, code, commun...</td>\n",
       "      <td>0</td>\n",
       "      <td>1066</td>\n",
       "      <td>02479.14365bcad3a60fcf24c5c1813f6291fb</td>\n",
       "    </tr>\n",
       "    <tr>\n",
       "      <th>1899</th>\n",
       "      <td>[tim, peters, wrote, i, run, experiments, trai...</td>\n",
       "      <td>0</td>\n",
       "      <td>2083</td>\n",
       "      <td>01417.ce7b07a2114218dbac682b599785820d</td>\n",
       "    </tr>\n",
       "    <tr>\n",
       "      <th>1900</th>\n",
       "      <td>[at, am, jim, whitehead, wrote, great, half, i...</td>\n",
       "      <td>0</td>\n",
       "      <td>882</td>\n",
       "      <td>00357.d559b71616f64ba1d1c1e61a03644fd4</td>\n",
       "    </tr>\n",
       "  </tbody>\n",
       "</table>\n",
       "</div>"
      ],
      "text/plain": [
       "                                                  MESSAGE  CATEGORY  length  \\\n",
       "Doc_ID                                                                        \n",
       "1896    [in, message, dated, am, jamesr, writes, this,...         0    1386   \n",
       "1897    [hiya, i, errors, i, apt, update, problem, rep...         0    1878   \n",
       "1898    [i, know, expect, better, secure, code, commun...         0    1066   \n",
       "1899    [tim, peters, wrote, i, run, experiments, trai...         0    2083   \n",
       "1900    [at, am, jim, whitehead, wrote, great, half, i...         0     882   \n",
       "\n",
       "                                     File_Name  \n",
       "Doc_ID                                          \n",
       "1896    00769.25bf9a767b5db0ed93f03c1637281663  \n",
       "1897    01074.8590d61ac0aeeadb58dc2f2ba776c406  \n",
       "1898    02479.14365bcad3a60fcf24c5c1813f6291fb  \n",
       "1899    01417.ce7b07a2114218dbac682b599785820d  \n",
       "1900    00357.d559b71616f64ba1d1c1e61a03644fd4  "
      ]
     },
     "execution_count": 208,
     "metadata": {},
     "output_type": "execute_result"
    }
   ],
   "source": [
    "#Extract SPAM messages\n",
    "ham_messages = data[data['CATEGORY']== HAM_CAT]\n",
    "ham_messages.head() #Display first 5 rows of SPAM messages"
   ]
  },
  {
   "cell_type": "code",
   "execution_count": 209,
   "id": "d9b2591f",
   "metadata": {},
   "outputs": [
    {
     "data": {
      "image/png": "[encoded data removed]",
      "text/plain": [
       "<Figure size 432x288 with 1 Axes>"
      ]
     },
     "metadata": {
      "needs_background": "light"
     },
     "output_type": "display_data"
    }
   ],
   "source": [
    "sns.countplot(data = data, x= data['CATEGORY']).set_title(\"Amount of spam and no-spam messages\")\n",
    "plt.show()"
   ]
  },
  {
   "cell_type": "code",
   "execution_count": 210,
   "id": "af5202fa",
   "metadata": {},
   "outputs": [],
   "source": [
    "spam_df = data[data['CATEGORY'] == SPAM_CAT] #create sub-dataframe of spam text\n",
    "ham_df = data[data['CATEGORY'] == HAM_CAT] #sub-dataframe of ham text"
   ]
  },
  {
   "cell_type": "code",
   "execution_count": 211,
   "id": "c752d162",
   "metadata": {},
   "outputs": [
    {
     "data": {
      "image/png": "[encoded data removed]",
      "text/plain": [
       "<Figure size 432x288 with 1 Axes>"
      ]
     },
     "metadata": {
      "needs_background": "light"
     },
     "output_type": "display_data"
    }
   ],
   "source": [
    "ham =data[data['CATEGORY'] == HAM_CAT]['MESSAGE'].str.len()\n",
    "sns.histplot(ham, label='Ham')\n",
    "spam = data[data['CATEGORY'] == SPAM_CAT]['MESSAGE'].str.len()\n",
    "sns.histplot(spam, label='Spam')\n",
    "plt.title('Distribution by Length')\n",
    "plt.legend()\n",
    "\n",
    "plt.savefig('Distrbution of word by length.png')"
   ]
  },
  {
   "cell_type": "code",
   "execution_count": 212,
   "id": "8499dfdb",
   "metadata": {},
   "outputs": [
    {
     "data": {
      "text/plain": [
       "Doc_ID\n",
       "0       [dear, homeowner, interest, rates, lowest, poi...\n",
       "1       [attention, this, must, all, computer, users, ...\n",
       "2       [this, message, mime, format, we, dare, try, b...\n",
       "3       [important, information, the, new, domain, nam...\n",
       "4       [this, line, if, give, away, cd, free, people,...\n",
       "                              ...                        \n",
       "5791    [i, working, week, tes, updates, servers, sync...\n",
       "5792    [damien, morton, quoted, approves, html, now, ...\n",
       "5793    [on, mon, che, wrote, thats, correct, lines, a...\n",
       "5794    [once, time, manfred, wrote, i, like, install,...\n",
       "5795    [if, run, pick, use, new, ftoc, button, messag...\n",
       "Name: MESSAGE, Length: 5796, dtype: object"
      ]
     },
     "execution_count": 212,
     "metadata": {},
     "output_type": "execute_result"
    }
   ],
   "source": [
    "data.MESSAGE"
   ]
  },
  {
   "cell_type": "code",
   "execution_count": 215,
   "id": "b64c5e0b",
   "metadata": {},
   "outputs": [
    {
     "name": "stdout",
     "output_type": "stream",
     "text": [
      "[('wrote,', 898), ('i,', 877), ('date,', 686), ('[on,', 639), ('[url,', 624), ('...', 511), ('aug,', 265), ('not,', 223), ('[i,', 215), ('sep,', 211), ('supplied,', 203), ('message,', 160), ('on,', 157), ('the,', 156), ('jul,', 156), ('wed,', 152), ('tue,', 145), ('mon,', 139), ('time,', 138), ('writes,', 128), ('[hi,', 126), ('from,', 123), ('thu,', 119), ('fri,', 117), ('in,', 98), ('said,', 94), ('matthias,', 93), ('[once,', 92), ('perl,', 82), ('[this,', 82)]\n"
     ]
    }
   ],
   "source": [
    "#for counting frequently occurence of spam and ham.\n",
    "from collections import Counter\n",
    "\n",
    "ham_MESSAGE = data[data['CATEGORY'] == HAM_CAT]['MESSAGE']\n",
    "ham_string = ham_MESSAGE.to_string()\n",
    "split_ham_string = ham_string.split()\n",
    "ham_string_counter = Counter(split_ham_string)\n",
    "most_ham = ham_string_counter.most_common(30)\n",
    "data1 = pd.DataFrame.from_dict(most_ham)\n",
    "data1 = data1.rename(columns={0: \"words of ham\", 1 : \"count_\"})\n",
    "\n",
    "\n",
    "spam_MESSAGE = data[data['CATEGORY'] == SPAM_CAT]['MESSAGE']\n",
    "spam_string = spam_MESSAGE.to_string()\n",
    "split_spam_string = spam_string.split()\n",
    "spam_string_counter = Counter(split_spam_string)\n",
    "most_spam = spam_string_counter.most_common(30)\n",
    "data2 = pd.DataFrame.from_dict(most_spam)\n",
    "data2 = data2.rename(columns={0: \"words of spam\", 1 : \"count_\"})\n",
    "\n",
    "print(most_ham)"
   ]
  },
  {
   "cell_type": "code",
   "execution_count": 216,
   "id": "14e4be3c",
   "metadata": {},
   "outputs": [
    {
     "data": {
      "image/png": "[encoded data removed]",
      "text/plain": [
       "<Figure size 1440x1080 with 1 Axes>"
      ]
     },
     "metadata": {
      "needs_background": "light"
     },
     "output_type": "display_data"
    },
    {
     "data": {
      "text/plain": [
       "<Figure size 432x288 with 0 Axes>"
      ]
     },
     "metadata": {},
     "output_type": "display_data"
    }
   ],
   "source": [
    "data1.plot.bar(legend = False, color = 'black',figsize = (20,15))\n",
    "y_pos = np.arange(len(data1[\"words of ham\"]))\n",
    "plt.xticks(y_pos, data1[\"words of ham\"])\n",
    "plt.title('Top 30 words of ham')\n",
    "plt.xlabel('words')\n",
    "plt.ylabel('number')\n",
    "plt.show()\n",
    "\n",
    "plt.savefig('Top30 words ham.png',dpi=199)"
   ]
  },
  {
   "cell_type": "code",
   "execution_count": 217,
   "id": "62f82017",
   "metadata": {},
   "outputs": [
    {
     "data": {
      "image/png": "[encoded data removed]",
      "text/plain": [
       "<Figure size 1440x1224 with 1 Axes>"
      ]
     },
     "metadata": {
      "needs_background": "light"
     },
     "output_type": "display_data"
    }
   ],
   "source": [
    "data2.plot.bar(legend = False, color = 'green', figsize = (20,17))\n",
    "y_pos = np.arange(len(data2[\"words of spam\"]))\n",
    "plt.xticks(y_pos, data2[\"words of spam\"])\n",
    "plt.title('Top 30 words of spam')\n",
    "plt.xlabel('words')\n",
    "plt.ylabel('number')\n",
    "plt.show()"
   ]
  },
  {
   "cell_type": "code",
   "execution_count": null,
   "id": "35918c50",
   "metadata": {},
   "outputs": [],
   "source": []
  }
 ],
 "metadata": {
  "kernelspec": {
   "display_name": "Python 3",
   "language": "python",
   "name": "python3"
  },
  "language_info": {
   "codemirror_mode": {
    "name": "ipython",
    "version": 3
   },
   "file_extension": ".py",
   "mimetype": "text/x-python",
   "name": "python",
   "nbconvert_exporter": "python",
   "pygments_lexer": "ipython3",
   "version": "3.8.8"
  }
 },
 "nbformat": 4,
 "nbformat_minor": 5
}
