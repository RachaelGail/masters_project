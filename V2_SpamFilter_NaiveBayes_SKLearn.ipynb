{
 "cells": [
  {
   "cell_type": "markdown",
   "id": "03413c0c",
   "metadata": {},
   "source": [
    "# Imports"
   ]
  },
  {
   "cell_type": "code",
   "execution_count": 1,
   "id": "c06c2015",
   "metadata": {},
   "outputs": [],
   "source": [
    "from os import walk \n",
    "from os.path import join\n",
    "import numpy as np \n",
    "import pandas as pd\n",
    "\n",
    "from sklearn.feature_extraction.text import CountVectorizer\n",
    "from sklearn.model_selection import train_test_split\n",
    "from sklearn.naive_bayes import MultinomialNB\n",
    "from sklearn.metrics import recall_score, precision_score, f1_score\n",
    "from nltk.corpus import stopwords\n",
    "from sklearn.metrics import classification_report\n",
    "\n",
    "\n",
    "import pandas as pd\n",
    "import numpy as np \n",
    "import matplotlib.pyplot as plt\n",
    "import seaborn as sns\n",
    "\n",
    "%matplotlib inline"
   ]
  },
  {
   "cell_type": "markdown",
   "id": "456a269e",
   "metadata": {},
   "source": [
    "# Constants "
   ]
  },
  {
   "cell_type": "code",
   "execution_count": 2,
   "id": "a5639e5c",
   "metadata": {},
   "outputs": [],
   "source": [
    "SPAM_1_FILEPATH = 'UniversityProject_SpamFilter/01_Processing/spam_assassin_corpus/spam_1'\n",
    "SPAM_2_FILEPATH = 'UniversityProject_SpamFilter/01_Processing/spam_assassin_corpus/spam_2'\n",
    "HAM_1_FILEPATH = 'UniversityProject_SpamFilter/01_Processing/spam_assassin_corpus/ham_1'\n",
    "HAM_2_FILEPATH = 'UniversityProject_SpamFilter/01_Processing/spam_assassin_corpus/ham_2'\n",
    "\n",
    "SPAM_CAT = 1\n",
    "HAM_CAT = 0\n",
    "\n",
    "DATA_JSON_FILE = 'UniversityProject_SpamFilter/01_Processing/Email_Text_Data.json'\n",
    "VALIDATION_FILEPATH = 'UniversityProject_SpamFilter/validation_emails.json'\n",
    "VALIDATION_DATA = 'UniversityProject_SpamFilter/Validation_Data.csv '"
   ]
  },
  {
   "cell_type": "code",
   "execution_count": null,
   "id": "31aa2f0a",
   "metadata": {},
   "outputs": [],
   "source": []
  },
  {
   "cell_type": "code",
   "execution_count": null,
   "id": "617f1946",
   "metadata": {},
   "outputs": [],
   "source": []
  },
  {
   "cell_type": "markdown",
   "id": "bf743a2d",
   "metadata": {},
   "source": [
    "# Extract Email Body"
   ]
  },
  {
   "cell_type": "code",
   "execution_count": 3,
   "id": "5c9dd50c",
   "metadata": {},
   "outputs": [],
   "source": [
    "def email_body_generator(path): \n",
    "                                    #walk provides a tuple \n",
    "    for root, dirnames, filenames, in walk(path):\n",
    "        for file_name in filenames:\n",
    "            \n",
    "            filepath = join(root, file_name)\n",
    "            stream = open(filepath, encoding='latin-1')\n",
    "            is_body= False\n",
    "            lines = []\n",
    "            \n",
    "            #extracts email body \n",
    "            for line in stream: \n",
    "                if is_body: \n",
    "                    lines.append(line)\n",
    "                elif line == '\\n':\n",
    "                    is_body = True\n",
    "\n",
    "            stream.close()\n",
    "\n",
    "            email_body = '\\n'.join(lines)\n",
    "            \n",
    "            #loops over the file in the directory and returns the file name and associated email body \n",
    "            yield file_name, email_body"
   ]
  },
  {
   "cell_type": "code",
   "execution_count": 4,
   "id": "53549532",
   "metadata": {},
   "outputs": [],
   "source": [
    "def dataframe_from_directory(path, classification):\n",
    "    rows = []\n",
    "    row_names = []\n",
    "    \n",
    "    for file_name, email_body in email_body_generator(path):\n",
    "        rows.append({'MESSAGE': email_body, 'CATEGORY': classification})\n",
    "        row_names.append(file_name) \n",
    "    \n",
    "    return pd.DataFrame(rows, index=row_names) "
   ]
  },
  {
   "cell_type": "code",
   "execution_count": 5,
   "id": "87fd74c2",
   "metadata": {},
   "outputs": [],
   "source": [
    "spam_emails = dataframe_from_directory(SPAM_1_FILEPATH, SPAM_CAT)\n",
    "spam_emails = spam_emails.append(dataframe_from_directory(SPAM_2_FILEPATH, SPAM_CAT))\n"
   ]
  },
  {
   "cell_type": "code",
   "execution_count": 6,
   "id": "ad6e8314",
   "metadata": {},
   "outputs": [],
   "source": [
    "ham_emails = dataframe_from_directory(HAM_1_FILEPATH, HAM_CAT)\n",
    "ham_emails = ham_emails.append(dataframe_from_directory(HAM_2_FILEPATH, HAM_CAT))\n"
   ]
  },
  {
   "cell_type": "code",
   "execution_count": 7,
   "id": "21a1c114",
   "metadata": {},
   "outputs": [],
   "source": [
    "data = pd.concat([spam_emails, ham_emails])"
   ]
  },
  {
   "cell_type": "code",
   "execution_count": 8,
   "id": "20130c65",
   "metadata": {},
   "outputs": [
    {
     "data": {
      "text/plain": [
       "Index(['cmds', 'cmds', 'cmds'], dtype='object')"
      ]
     },
     "execution_count": 8,
     "metadata": {},
     "output_type": "execute_result"
    }
   ],
   "source": [
    "data[data.MESSAGE.str.len() == 0].index"
   ]
  },
  {
   "cell_type": "code",
   "execution_count": 9,
   "id": "d3443100",
   "metadata": {},
   "outputs": [],
   "source": [
    "data.drop(['cmds'], inplace = True)"
   ]
  },
  {
   "cell_type": "code",
   "execution_count": null,
   "id": "be1d4dd9",
   "metadata": {},
   "outputs": [],
   "source": []
  },
  {
   "cell_type": "code",
   "execution_count": null,
   "id": "918cbd27",
   "metadata": {},
   "outputs": [],
   "source": []
  },
  {
   "cell_type": "code",
   "execution_count": null,
   "id": "26094df5",
   "metadata": {},
   "outputs": [],
   "source": []
  },
  {
   "cell_type": "markdown",
   "id": "d23b573d",
   "metadata": {},
   "source": [
    "## Add Document ID's to track "
   ]
  },
  {
   "cell_type": "code",
   "execution_count": 10,
   "id": "49f0c54e",
   "metadata": {},
   "outputs": [
    {
     "data": {
      "text/html": [
       "<div>\n",
       "<style scoped>\n",
       "    .dataframe tbody tr th:only-of-type {\n",
       "        vertical-align: middle;\n",
       "    }\n",
       "\n",
       "    .dataframe tbody tr th {\n",
       "        vertical-align: top;\n",
       "    }\n",
       "\n",
       "    .dataframe thead th {\n",
       "        text-align: right;\n",
       "    }\n",
       "</style>\n",
       "<table border=\"1\" class=\"dataframe\">\n",
       "  <thead>\n",
       "    <tr style=\"text-align: right;\">\n",
       "      <th></th>\n",
       "      <th>MESSAGE</th>\n",
       "      <th>CATEGORY</th>\n",
       "      <th>File_Name</th>\n",
       "    </tr>\n",
       "    <tr>\n",
       "      <th>Doc_ID</th>\n",
       "      <th></th>\n",
       "      <th></th>\n",
       "      <th></th>\n",
       "    </tr>\n",
       "  </thead>\n",
       "  <tbody>\n",
       "    <tr>\n",
       "      <th>0</th>\n",
       "      <td>Dear Homeowner,\\n\\n \\n\\nInterest Rates are at ...</td>\n",
       "      <td>1</td>\n",
       "      <td>00249.5f45607c1bffe89f60ba1ec9f878039a</td>\n",
       "    </tr>\n",
       "    <tr>\n",
       "      <th>1</th>\n",
       "      <td>ATTENTION: This is a MUST for ALL Computer Use...</td>\n",
       "      <td>1</td>\n",
       "      <td>00373.ebe8670ac56b04125c25100a36ab0510</td>\n",
       "    </tr>\n",
       "    <tr>\n",
       "      <th>2</th>\n",
       "      <td>This is a multi-part message in MIME format.\\n...</td>\n",
       "      <td>1</td>\n",
       "      <td>00214.1367039e50dc6b7adb0f2aa8aba83216</td>\n",
       "    </tr>\n",
       "    <tr>\n",
       "      <th>3</th>\n",
       "      <td>IMPORTANT INFORMATION:\\n\\n\\n\\nThe new domain n...</td>\n",
       "      <td>1</td>\n",
       "      <td>00210.050ffd105bd4e006771ee63cabc59978</td>\n",
       "    </tr>\n",
       "    <tr>\n",
       "      <th>4</th>\n",
       "      <td>This is the bottom line.  If you can GIVE AWAY...</td>\n",
       "      <td>1</td>\n",
       "      <td>00033.9babb58d9298daa2963d4f514193d7d6</td>\n",
       "    </tr>\n",
       "  </tbody>\n",
       "</table>\n",
       "</div>"
      ],
      "text/plain": [
       "                                                  MESSAGE  CATEGORY  \\\n",
       "Doc_ID                                                                \n",
       "0       Dear Homeowner,\\n\\n \\n\\nInterest Rates are at ...         1   \n",
       "1       ATTENTION: This is a MUST for ALL Computer Use...         1   \n",
       "2       This is a multi-part message in MIME format.\\n...         1   \n",
       "3       IMPORTANT INFORMATION:\\n\\n\\n\\nThe new domain n...         1   \n",
       "4       This is the bottom line.  If you can GIVE AWAY...         1   \n",
       "\n",
       "                                     File_Name  \n",
       "Doc_ID                                          \n",
       "0       00249.5f45607c1bffe89f60ba1ec9f878039a  \n",
       "1       00373.ebe8670ac56b04125c25100a36ab0510  \n",
       "2       00214.1367039e50dc6b7adb0f2aa8aba83216  \n",
       "3       00210.050ffd105bd4e006771ee63cabc59978  \n",
       "4       00033.9babb58d9298daa2963d4f514193d7d6  "
      ]
     },
     "execution_count": 10,
     "metadata": {},
     "output_type": "execute_result"
    }
   ],
   "source": [
    "documents_ids = range(0, len(data.index))\n",
    "data['Doc_ID'] = documents_ids\n",
    "data['File_Name'] = data.index\n",
    "data = data.set_index('Doc_ID')\n",
    "data.head() "
   ]
  },
  {
   "cell_type": "markdown",
   "id": "94b1adcf",
   "metadata": {},
   "source": [
    "## Saving to File "
   ]
  },
  {
   "cell_type": "code",
   "execution_count": 11,
   "id": "df3d117c",
   "metadata": {},
   "outputs": [],
   "source": [
    "data.to_json(DATA_JSON_FILE)"
   ]
  },
  {
   "cell_type": "code",
   "execution_count": null,
   "id": "7a3cc9a8",
   "metadata": {},
   "outputs": [],
   "source": []
  },
  {
   "cell_type": "code",
   "execution_count": 12,
   "id": "53cfdfca",
   "metadata": {},
   "outputs": [],
   "source": [
    "data = pd.read_json(DATA_JSON_FILE)"
   ]
  },
  {
   "cell_type": "code",
   "execution_count": 13,
   "id": "0854a55d",
   "metadata": {},
   "outputs": [],
   "source": [
    "data.sort_index(inplace = True)"
   ]
  },
  {
   "cell_type": "code",
   "execution_count": 14,
   "id": "dc7e6d9f",
   "metadata": {},
   "outputs": [],
   "source": [
    "SW = stopwords.words('english')\n",
    "\n",
    "capital_sw = [each_string.title() for each_string in SW]\n",
    "uppercase_sw = [each_string.upper() for each_string in SW]\n",
    "\n",
    "SW.extend(capital_sw)\n",
    "SW.extend(uppercase_sw)\n",
    "\n",
    "all_stop_words = set(SW)"
   ]
  },
  {
   "cell_type": "code",
   "execution_count": null,
   "id": "59f99573",
   "metadata": {},
   "outputs": [],
   "source": []
  },
  {
   "cell_type": "code",
   "execution_count": null,
   "id": "3d8df831",
   "metadata": {},
   "outputs": [],
   "source": []
  },
  {
   "cell_type": "code",
   "execution_count": 15,
   "id": "57672d85",
   "metadata": {},
   "outputs": [],
   "source": [
    "#create vectorizer\n",
    "\n",
    "vectorizer = CountVectorizer(stop_words=all_stop_words)"
   ]
  },
  {
   "cell_type": "code",
   "execution_count": 16,
   "id": "6c538a45",
   "metadata": {},
   "outputs": [],
   "source": [
    "#created document term matrix in the previous method, however can do in one line with scikitlean\n",
    "\n",
    "all_features = vectorizer.fit_transform(data.MESSAGE)"
   ]
  },
  {
   "cell_type": "code",
   "execution_count": 17,
   "id": "715acf83",
   "metadata": {},
   "outputs": [
    {
     "data": {
      "text/plain": [
       "(5796, 102858)"
      ]
     },
     "execution_count": 17,
     "metadata": {},
     "output_type": "execute_result"
    }
   ],
   "source": [
    "all_features.shape"
   ]
  },
  {
   "cell_type": "code",
   "execution_count": 18,
   "id": "b39b341a",
   "metadata": {},
   "outputs": [],
   "source": [
    "X_train, X_test, y_train, y_test = train_test_split(all_features, data.CATEGORY, test_size = 0.3, random_state = 88)"
   ]
  },
  {
   "cell_type": "code",
   "execution_count": 19,
   "id": "5968170a",
   "metadata": {},
   "outputs": [],
   "source": [
    "classifier = MultinomialNB()"
   ]
  },
  {
   "cell_type": "code",
   "execution_count": 20,
   "id": "5d72c61d",
   "metadata": {},
   "outputs": [
    {
     "data": {
      "text/plain": [
       "MultinomialNB()"
      ]
     },
     "execution_count": 20,
     "metadata": {},
     "output_type": "execute_result"
    }
   ],
   "source": [
    " classifier.fit(X_train, y_train)"
   ]
  },
  {
   "cell_type": "code",
   "execution_count": 21,
   "id": "10ca71ae",
   "metadata": {},
   "outputs": [],
   "source": [
    "nr_correct = (y_test == classifier.predict(X_test)).sum()"
   ]
  },
  {
   "cell_type": "code",
   "execution_count": 22,
   "id": "d25c3ee5",
   "metadata": {},
   "outputs": [],
   "source": [
    "predictions = classifier.predict(X_test)"
   ]
  },
  {
   "cell_type": "code",
   "execution_count": 23,
   "id": "e8c80640",
   "metadata": {},
   "outputs": [
    {
     "name": "stdout",
     "output_type": "stream",
     "text": [
      "1658 documents classified correctly\n"
     ]
    }
   ],
   "source": [
    "print(f'{nr_correct} documents classified correctly')"
   ]
  },
  {
   "cell_type": "code",
   "execution_count": 24,
   "id": "5fd56424",
   "metadata": {},
   "outputs": [],
   "source": [
    "nr_incorrect = y_test.size - nr_correct"
   ]
  },
  {
   "cell_type": "code",
   "execution_count": 25,
   "id": "bb0101d7",
   "metadata": {},
   "outputs": [
    {
     "name": "stdout",
     "output_type": "stream",
     "text": [
      "81 documents classified incorrectly\n"
     ]
    }
   ],
   "source": [
    "print(f'{nr_incorrect} documents classified incorrectly')"
   ]
  },
  {
   "cell_type": "code",
   "execution_count": 26,
   "id": "b2cc6cea",
   "metadata": {},
   "outputs": [
    {
     "name": "stdout",
     "output_type": "stream",
     "text": [
      " The (testing) accuracy of the model is 95.342%\n"
     ]
    }
   ],
   "source": [
    "fraction_wrong = nr_incorrect/ (nr_correct +nr_incorrect)\n",
    "print(f' The (testing) accuracy of the model is {1-fraction_wrong:.3%}')"
   ]
  },
  {
   "cell_type": "code",
   "execution_count": 27,
   "id": "df2550f3",
   "metadata": {},
   "outputs": [
    {
     "data": {
      "text/plain": [
       "0.953421506612996"
      ]
     },
     "execution_count": 27,
     "metadata": {},
     "output_type": "execute_result"
    }
   ],
   "source": [
    "classifier.score(X_test, y_test)"
   ]
  },
  {
   "cell_type": "code",
   "execution_count": 28,
   "id": "8f27b5d2",
   "metadata": {},
   "outputs": [
    {
     "data": {
      "text/plain": [
       "0.8610108303249098"
      ]
     },
     "execution_count": 28,
     "metadata": {},
     "output_type": "execute_result"
    }
   ],
   "source": [
    "# Recall Score\n",
    "recall_score(y_test, classifier.predict(X_test))"
   ]
  },
  {
   "cell_type": "code",
   "execution_count": 29,
   "id": "852687a6",
   "metadata": {},
   "outputs": [
    {
     "data": {
      "text/plain": [
       "0.9916839916839917"
      ]
     },
     "execution_count": 29,
     "metadata": {},
     "output_type": "execute_result"
    }
   ],
   "source": [
    "# Precision\n",
    "precision_score(y_test, classifier.predict(X_test))"
   ]
  },
  {
   "cell_type": "code",
   "execution_count": 30,
   "id": "fed99714",
   "metadata": {},
   "outputs": [
    {
     "data": {
      "text/plain": [
       "0.9217391304347826"
      ]
     },
     "execution_count": 30,
     "metadata": {},
     "output_type": "execute_result"
    }
   ],
   "source": [
    "#F1 Score\n",
    "f1_score(y_test, classifier.predict(X_test))"
   ]
  },
  {
   "cell_type": "code",
   "execution_count": 31,
   "id": "ac563a74",
   "metadata": {},
   "outputs": [
    {
     "name": "stdout",
     "output_type": "stream",
     "text": [
      "              precision    recall  f1-score   support\n",
      "\n",
      "           0       0.94      1.00      0.97      1185\n",
      "           1       0.99      0.86      0.92       554\n",
      "\n",
      "    accuracy                           0.95      1739\n",
      "   macro avg       0.97      0.93      0.94      1739\n",
      "weighted avg       0.96      0.95      0.95      1739\n",
      "\n"
     ]
    }
   ],
   "source": [
    "print(classification_report(y_test, predictions))"
   ]
  },
  {
   "cell_type": "code",
   "execution_count": 32,
   "id": "dbf8cdab",
   "metadata": {},
   "outputs": [
    {
     "name": "stdout",
     "output_type": "stream",
     "text": [
      "Docs classified correctly 1658\n",
      "Docs classified incorrectly 81\n"
     ]
    }
   ],
   "source": [
    "correct_doc = (y_test == predictions).sum()\n",
    "numbs_doc_wrong = X_test.shape[0] - correct_doc\n",
    "\n",
    "print('Docs classified correctly', correct_doc)\n",
    "print('Docs classified incorrectly', numbs_doc_wrong)"
   ]
  },
  {
   "cell_type": "markdown",
   "id": "f096c6ed",
   "metadata": {},
   "source": [
    "## Visualising the results "
   ]
  },
  {
   "cell_type": "code",
   "execution_count": 33,
   "id": "b1970ef2",
   "metadata": {},
   "outputs": [],
   "source": [
    "#Chart styling info \n",
    "yaxis_label = 'P(X | Spam)'\n",
    "xaxis_label = 'P(X | Nonspam)'\n",
    "\n",
    "linedata = np.linspace(start=-14000, stop = 1, num=1000)"
   ]
  },
  {
   "cell_type": "code",
   "execution_count": null,
   "id": "b6c19564",
   "metadata": {},
   "outputs": [],
   "source": []
  },
  {
   "cell_type": "code",
   "execution_count": null,
   "id": "49983141",
   "metadata": {},
   "outputs": [],
   "source": []
  },
  {
   "cell_type": "code",
   "execution_count": null,
   "id": "e176f98e",
   "metadata": {},
   "outputs": [],
   "source": []
  },
  {
   "cell_type": "code",
   "execution_count": null,
   "id": "b8aeaea3",
   "metadata": {},
   "outputs": [],
   "source": []
  },
  {
   "cell_type": "code",
   "execution_count": null,
   "id": "5fb06fe8",
   "metadata": {},
   "outputs": [],
   "source": []
  }
 ],
 "metadata": {
  "kernelspec": {
   "display_name": "Python 3",
   "language": "python",
   "name": "python3"
  },
  "language_info": {
   "codemirror_mode": {
    "name": "ipython",
    "version": 3
   },
   "file_extension": ".py",
   "mimetype": "text/x-python",
   "name": "python",
   "nbconvert_exporter": "python",
   "pygments_lexer": "ipython3",
   "version": "3.8.8"
  }
 },
 "nbformat": 4,
 "nbformat_minor": 5
}
