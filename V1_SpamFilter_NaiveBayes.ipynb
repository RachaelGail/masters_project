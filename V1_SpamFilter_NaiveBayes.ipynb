{
 "cells": [
  {
   "cell_type": "markdown",
   "id": "4259ebea",
   "metadata": {},
   "source": [
    "# Imports"
   ]
  },
  {
   "cell_type": "code",
   "execution_count": 1,
   "id": "921fdc0f",
   "metadata": {},
   "outputs": [],
   "source": [
    "from os import walk \n",
    "from os.path import join\n",
    "\n",
    "import numpy as np\n",
    "import pandas as pd\n",
    "\n",
    "import matplotlib.pyplot as plt \n",
    "import sys\n",
    "\n",
    "import nltk\n",
    "from nltk.stem import PorterStemmer\n",
    "from nltk.corpus import stopwords\n",
    "from nltk.tokenize import word_tokenize\n",
    "\n",
    "from sklearn.model_selection import train_test_split\n",
    "\n",
    "from bs4 import BeautifulSoup\n",
    "\n",
    "%matplotlib inline "
   ]
  },
  {
   "cell_type": "markdown",
   "id": "81c148c9",
   "metadata": {},
   "source": [
    "# Constants"
   ]
  },
  {
   "cell_type": "code",
   "execution_count": 2,
   "id": "fdcb18ba",
   "metadata": {},
   "outputs": [],
   "source": [
    "EXAMPLE_FILE = 'UniversityProject_SpamFilter/01_Processing/practice_email.txt'\n",
    "SPAM_1_FILEPATH = 'UniversityProject_SpamFilter/01_Processing/spam_assassin_corpus/spam_1'\n",
    "SPAM_2_FILEPATH = 'UniversityProject_SpamFilter/01_Processing/spam_assassin_corpus/spam_2'\n",
    "HAM_1_FILEPATH = 'UniversityProject_SpamFilter/01_Processing/spam_assassin_corpus/ham_1'\n",
    "HAM_2_FILEPATH = 'UniversityProject_SpamFilter/01_Processing/spam_assassin_corpus/ham_2'\n",
    "\n",
    "SPAM_CAT = 1\n",
    "HAM_CAT = 0\n",
    "\n",
    "TRAINING_DATA_FILE = 'UniversityProject_SpamFilter/02_Training/Training_Data.txt'\n",
    "TEST_DATA_FILE = 'UniversityProject_SpamFilter/02_Training/Test_Data.txt'\n",
    "\n",
    "DATA_JSON_FILE = 'UniversityProject_SpamFilter/01_Processing/Email_Text_Data.json'\n",
    "WORD_ID_FILE = 'UniversityProject_SpamFilter/01_Processing/Word_By_ID.csv'\n",
    "\n",
    "\n",
    "TOKEN_SPAM_PROB_FILE = 'UniversityProject_SpamFilter/03_Testing/Prob_Spam.txt'\n",
    "TOKEN_HAM_PROB_FILE = 'UniversityProject_SpamFilter/03_Testing/Prob_Ham.txt'\n",
    "TOKEN_ALL_PROB_FILE = 'UniversityProject_SpamFilter/03_Testing/Prob_All_Tokens.txt'\n",
    "\n",
    "TEST_FEATURE_MATRIX = 'UniversityProject_SpamFilter/03_Testing/Test_Features.txt'\n",
    "TEST_TARGET_FILE = 'UniversityProject_SpamFilter/03_Testing/Test_Target.txt'\n",
    "\n",
    "\n",
    "VOCAB_SIZE=2500"
   ]
  },
  {
   "cell_type": "code",
   "execution_count": null,
   "id": "bfd67948",
   "metadata": {},
   "outputs": [],
   "source": []
  },
  {
   "cell_type": "markdown",
   "id": "fbc677d9",
   "metadata": {},
   "source": [
    "# Extract Email Body"
   ]
  },
  {
   "cell_type": "code",
   "execution_count": 3,
   "id": "81c28773",
   "metadata": {},
   "outputs": [],
   "source": [
    "def email_body_generator(path): \n",
    "                                    #walk provides a tuple \n",
    "    for root, dirnames, filenames, in walk(path):\n",
    "        for file_name in filenames:\n",
    "            \n",
    "            filepath = join(root, file_name)\n",
    "            stream = open(filepath, encoding='latin-1')\n",
    "            is_body= False\n",
    "            lines = []\n",
    "            \n",
    "            #extracts email body \n",
    "            for line in stream: \n",
    "                if is_body: \n",
    "                    lines.append(line)\n",
    "                elif line == '\\n':\n",
    "                    is_body = True\n",
    "\n",
    "            stream.close()\n",
    "\n",
    "            email_body = '\\n'.join(lines)\n",
    "            \n",
    "            #loops over the file in the directory and returns the file name and associated email body \n",
    "            yield file_name, email_body"
   ]
  },
  {
   "cell_type": "code",
   "execution_count": 4,
   "id": "c86fbaa7",
   "metadata": {},
   "outputs": [],
   "source": [
    "def dataframe_from_directory(path, classification):\n",
    "    rows = []\n",
    "    row_names = []\n",
    "    \n",
    "    for file_name, email_body in email_body_generator(path):\n",
    "        rows.append({'MESSAGE': email_body, 'CATEGORY': classification})\n",
    "        row_names.append(file_name) \n",
    "    \n",
    "    return pd.DataFrame(rows, index=row_names) "
   ]
  },
  {
   "cell_type": "code",
   "execution_count": 5,
   "id": "84fed9b2",
   "metadata": {},
   "outputs": [
    {
     "data": {
      "text/html": [
       "<div>\n",
       "<style scoped>\n",
       "    .dataframe tbody tr th:only-of-type {\n",
       "        vertical-align: middle;\n",
       "    }\n",
       "\n",
       "    .dataframe tbody tr th {\n",
       "        vertical-align: top;\n",
       "    }\n",
       "\n",
       "    .dataframe thead th {\n",
       "        text-align: right;\n",
       "    }\n",
       "</style>\n",
       "<table border=\"1\" class=\"dataframe\">\n",
       "  <thead>\n",
       "    <tr style=\"text-align: right;\">\n",
       "      <th></th>\n",
       "      <th>MESSAGE</th>\n",
       "      <th>CATEGORY</th>\n",
       "    </tr>\n",
       "  </thead>\n",
       "  <tbody>\n",
       "    <tr>\n",
       "      <th>00249.5f45607c1bffe89f60ba1ec9f878039a</th>\n",
       "      <td>Dear Homeowner,\\n\\n \\n\\nInterest Rates are at ...</td>\n",
       "      <td>1</td>\n",
       "    </tr>\n",
       "    <tr>\n",
       "      <th>00373.ebe8670ac56b04125c25100a36ab0510</th>\n",
       "      <td>ATTENTION: This is a MUST for ALL Computer Use...</td>\n",
       "      <td>1</td>\n",
       "    </tr>\n",
       "    <tr>\n",
       "      <th>00214.1367039e50dc6b7adb0f2aa8aba83216</th>\n",
       "      <td>This is a multi-part message in MIME format.\\n...</td>\n",
       "      <td>1</td>\n",
       "    </tr>\n",
       "    <tr>\n",
       "      <th>00210.050ffd105bd4e006771ee63cabc59978</th>\n",
       "      <td>IMPORTANT INFORMATION:\\n\\n\\n\\nThe new domain n...</td>\n",
       "      <td>1</td>\n",
       "    </tr>\n",
       "    <tr>\n",
       "      <th>00033.9babb58d9298daa2963d4f514193d7d6</th>\n",
       "      <td>This is the bottom line.  If you can GIVE AWAY...</td>\n",
       "      <td>1</td>\n",
       "    </tr>\n",
       "  </tbody>\n",
       "</table>\n",
       "</div>"
      ],
      "text/plain": [
       "                                                                                  MESSAGE  \\\n",
       "00249.5f45607c1bffe89f60ba1ec9f878039a  Dear Homeowner,\\n\\n \\n\\nInterest Rates are at ...   \n",
       "00373.ebe8670ac56b04125c25100a36ab0510  ATTENTION: This is a MUST for ALL Computer Use...   \n",
       "00214.1367039e50dc6b7adb0f2aa8aba83216  This is a multi-part message in MIME format.\\n...   \n",
       "00210.050ffd105bd4e006771ee63cabc59978  IMPORTANT INFORMATION:\\n\\n\\n\\nThe new domain n...   \n",
       "00033.9babb58d9298daa2963d4f514193d7d6  This is the bottom line.  If you can GIVE AWAY...   \n",
       "\n",
       "                                        CATEGORY  \n",
       "00249.5f45607c1bffe89f60ba1ec9f878039a         1  \n",
       "00373.ebe8670ac56b04125c25100a36ab0510         1  \n",
       "00214.1367039e50dc6b7adb0f2aa8aba83216         1  \n",
       "00210.050ffd105bd4e006771ee63cabc59978         1  \n",
       "00033.9babb58d9298daa2963d4f514193d7d6         1  "
      ]
     },
     "execution_count": 5,
     "metadata": {},
     "output_type": "execute_result"
    }
   ],
   "source": [
    "spam_emails = dataframe_from_directory(SPAM_1_FILEPATH, SPAM_CAT)\n",
    "spam_emails = spam_emails.append(dataframe_from_directory(SPAM_2_FILEPATH, SPAM_CAT))\n",
    "spam_emails.head()"
   ]
  },
  {
   "cell_type": "code",
   "execution_count": 6,
   "id": "a805eae8",
   "metadata": {},
   "outputs": [
    {
     "data": {
      "text/html": [
       "<div>\n",
       "<style scoped>\n",
       "    .dataframe tbody tr th:only-of-type {\n",
       "        vertical-align: middle;\n",
       "    }\n",
       "\n",
       "    .dataframe tbody tr th {\n",
       "        vertical-align: top;\n",
       "    }\n",
       "\n",
       "    .dataframe thead th {\n",
       "        text-align: right;\n",
       "    }\n",
       "</style>\n",
       "<table border=\"1\" class=\"dataframe\">\n",
       "  <thead>\n",
       "    <tr style=\"text-align: right;\">\n",
       "      <th></th>\n",
       "      <th>MESSAGE</th>\n",
       "      <th>CATEGORY</th>\n",
       "    </tr>\n",
       "  </thead>\n",
       "  <tbody>\n",
       "    <tr>\n",
       "      <th>00769.25bf9a767b5db0ed93f03c1637281663</th>\n",
       "      <td>\\n\\nIn a message dated 9/24/2002 11:24:58 AM, ...</td>\n",
       "      <td>0</td>\n",
       "    </tr>\n",
       "    <tr>\n",
       "      <th>01074.8590d61ac0aeeadb58dc2f2ba776c406</th>\n",
       "      <td>Hiya, I always seem to get errors when I do an...</td>\n",
       "      <td>0</td>\n",
       "    </tr>\n",
       "    <tr>\n",
       "      <th>02479.14365bcad3a60fcf24c5c1813f6291fb</th>\n",
       "      <td>\\n\\nI don't know how one can expect better and...</td>\n",
       "      <td>0</td>\n",
       "    </tr>\n",
       "    <tr>\n",
       "      <th>01417.ce7b07a2114218dbac682b599785820d</th>\n",
       "      <td>Tim Peters wrote:\\n\\n&gt; I've run no experiments...</td>\n",
       "      <td>0</td>\n",
       "    </tr>\n",
       "    <tr>\n",
       "      <th>00357.d559b71616f64ba1d1c1e61a03644fd4</th>\n",
       "      <td>At 10:34 AM -0700 on 8/28/02, Jim Whitehead wr...</td>\n",
       "      <td>0</td>\n",
       "    </tr>\n",
       "  </tbody>\n",
       "</table>\n",
       "</div>"
      ],
      "text/plain": [
       "                                                                                  MESSAGE  \\\n",
       "00769.25bf9a767b5db0ed93f03c1637281663  \\n\\nIn a message dated 9/24/2002 11:24:58 AM, ...   \n",
       "01074.8590d61ac0aeeadb58dc2f2ba776c406  Hiya, I always seem to get errors when I do an...   \n",
       "02479.14365bcad3a60fcf24c5c1813f6291fb  \\n\\nI don't know how one can expect better and...   \n",
       "01417.ce7b07a2114218dbac682b599785820d  Tim Peters wrote:\\n\\n> I've run no experiments...   \n",
       "00357.d559b71616f64ba1d1c1e61a03644fd4  At 10:34 AM -0700 on 8/28/02, Jim Whitehead wr...   \n",
       "\n",
       "                                        CATEGORY  \n",
       "00769.25bf9a767b5db0ed93f03c1637281663         0  \n",
       "01074.8590d61ac0aeeadb58dc2f2ba776c406         0  \n",
       "02479.14365bcad3a60fcf24c5c1813f6291fb         0  \n",
       "01417.ce7b07a2114218dbac682b599785820d         0  \n",
       "00357.d559b71616f64ba1d1c1e61a03644fd4         0  "
      ]
     },
     "execution_count": 6,
     "metadata": {},
     "output_type": "execute_result"
    }
   ],
   "source": [
    "ham_emails = dataframe_from_directory(HAM_1_FILEPATH, HAM_CAT)\n",
    "ham_emails = ham_emails.append(dataframe_from_directory(HAM_2_FILEPATH, HAM_CAT))\n",
    "ham_emails.head()"
   ]
  },
  {
   "cell_type": "code",
   "execution_count": 7,
   "id": "e6e16b61",
   "metadata": {},
   "outputs": [],
   "source": [
    "data = pd.concat([spam_emails, ham_emails])"
   ]
  },
  {
   "cell_type": "code",
   "execution_count": 97,
   "id": "19cd220c",
   "metadata": {},
   "outputs": [
    {
     "data": {
      "text/plain": [
       "(5796, 3)"
      ]
     },
     "execution_count": 97,
     "metadata": {},
     "output_type": "execute_result"
    }
   ],
   "source": [
    "data.shape"
   ]
  },
  {
   "cell_type": "markdown",
   "id": "48d2a139",
   "metadata": {},
   "source": [
    "# Data Cleaning: Checking for Missing Values¶"
   ]
  },
  {
   "cell_type": "code",
   "execution_count": 8,
   "id": "920bb278",
   "metadata": {},
   "outputs": [
    {
     "data": {
      "text/plain": [
       "00249.5f45607c1bffe89f60ba1ec9f878039a    False\n",
       "00373.ebe8670ac56b04125c25100a36ab0510    False\n",
       "00214.1367039e50dc6b7adb0f2aa8aba83216    False\n",
       "00210.050ffd105bd4e006771ee63cabc59978    False\n",
       "00033.9babb58d9298daa2963d4f514193d7d6    False\n",
       "                                          ...  \n",
       "00609.dd49926ce94a1ea328cce9b62825bc97    False\n",
       "00957.e0b56b117f3ec5f85e432a9d2a47801f    False\n",
       "01127.841233b48eceb74a825417d8d918abf8    False\n",
       "01178.5c977dff972cd6eef64d4173b90307f0    False\n",
       "00747.352d424267d36975a7b40b85ffd0885e    False\n",
       "Name: MESSAGE, Length: 5799, dtype: bool"
      ]
     },
     "execution_count": 8,
     "metadata": {},
     "output_type": "execute_result"
    }
   ],
   "source": [
    "data.MESSAGE.str.len() == 0"
   ]
  },
  {
   "cell_type": "code",
   "execution_count": 9,
   "id": "90c9b80d",
   "metadata": {},
   "outputs": [
    {
     "data": {
      "text/plain": [
       "Index(['cmds', 'cmds', 'cmds'], dtype='object')"
      ]
     },
     "execution_count": 9,
     "metadata": {},
     "output_type": "execute_result"
    }
   ],
   "source": [
    "data[data.MESSAGE.str.len() == 0].index"
   ]
  },
  {
   "cell_type": "code",
   "execution_count": 10,
   "id": "ae8f6164",
   "metadata": {},
   "outputs": [],
   "source": [
    "data.drop(['cmds'], inplace = True)"
   ]
  },
  {
   "cell_type": "markdown",
   "id": "1519cd28",
   "metadata": {},
   "source": [
    "## Add Document ID's to track "
   ]
  },
  {
   "cell_type": "code",
   "execution_count": 11,
   "id": "c9fd89f6",
   "metadata": {},
   "outputs": [
    {
     "data": {
      "text/html": [
       "<div>\n",
       "<style scoped>\n",
       "    .dataframe tbody tr th:only-of-type {\n",
       "        vertical-align: middle;\n",
       "    }\n",
       "\n",
       "    .dataframe tbody tr th {\n",
       "        vertical-align: top;\n",
       "    }\n",
       "\n",
       "    .dataframe thead th {\n",
       "        text-align: right;\n",
       "    }\n",
       "</style>\n",
       "<table border=\"1\" class=\"dataframe\">\n",
       "  <thead>\n",
       "    <tr style=\"text-align: right;\">\n",
       "      <th></th>\n",
       "      <th>MESSAGE</th>\n",
       "      <th>CATEGORY</th>\n",
       "      <th>File_Name</th>\n",
       "    </tr>\n",
       "    <tr>\n",
       "      <th>Doc_ID</th>\n",
       "      <th></th>\n",
       "      <th></th>\n",
       "      <th></th>\n",
       "    </tr>\n",
       "  </thead>\n",
       "  <tbody>\n",
       "    <tr>\n",
       "      <th>0</th>\n",
       "      <td>Dear Homeowner,\\n\\n \\n\\nInterest Rates are at ...</td>\n",
       "      <td>1</td>\n",
       "      <td>00249.5f45607c1bffe89f60ba1ec9f878039a</td>\n",
       "    </tr>\n",
       "    <tr>\n",
       "      <th>1</th>\n",
       "      <td>ATTENTION: This is a MUST for ALL Computer Use...</td>\n",
       "      <td>1</td>\n",
       "      <td>00373.ebe8670ac56b04125c25100a36ab0510</td>\n",
       "    </tr>\n",
       "    <tr>\n",
       "      <th>2</th>\n",
       "      <td>This is a multi-part message in MIME format.\\n...</td>\n",
       "      <td>1</td>\n",
       "      <td>00214.1367039e50dc6b7adb0f2aa8aba83216</td>\n",
       "    </tr>\n",
       "    <tr>\n",
       "      <th>3</th>\n",
       "      <td>IMPORTANT INFORMATION:\\n\\n\\n\\nThe new domain n...</td>\n",
       "      <td>1</td>\n",
       "      <td>00210.050ffd105bd4e006771ee63cabc59978</td>\n",
       "    </tr>\n",
       "    <tr>\n",
       "      <th>4</th>\n",
       "      <td>This is the bottom line.  If you can GIVE AWAY...</td>\n",
       "      <td>1</td>\n",
       "      <td>00033.9babb58d9298daa2963d4f514193d7d6</td>\n",
       "    </tr>\n",
       "  </tbody>\n",
       "</table>\n",
       "</div>"
      ],
      "text/plain": [
       "                                                  MESSAGE  CATEGORY  \\\n",
       "Doc_ID                                                                \n",
       "0       Dear Homeowner,\\n\\n \\n\\nInterest Rates are at ...         1   \n",
       "1       ATTENTION: This is a MUST for ALL Computer Use...         1   \n",
       "2       This is a multi-part message in MIME format.\\n...         1   \n",
       "3       IMPORTANT INFORMATION:\\n\\n\\n\\nThe new domain n...         1   \n",
       "4       This is the bottom line.  If you can GIVE AWAY...         1   \n",
       "\n",
       "                                     File_Name  \n",
       "Doc_ID                                          \n",
       "0       00249.5f45607c1bffe89f60ba1ec9f878039a  \n",
       "1       00373.ebe8670ac56b04125c25100a36ab0510  \n",
       "2       00214.1367039e50dc6b7adb0f2aa8aba83216  \n",
       "3       00210.050ffd105bd4e006771ee63cabc59978  \n",
       "4       00033.9babb58d9298daa2963d4f514193d7d6  "
      ]
     },
     "execution_count": 11,
     "metadata": {},
     "output_type": "execute_result"
    }
   ],
   "source": [
    "documents_ids = range(0, len(data.index))\n",
    "data['Doc_ID'] = documents_ids\n",
    "data['File_Name'] = data.index\n",
    "data = data.set_index('Doc_ID')\n",
    "data.head() "
   ]
  },
  {
   "cell_type": "markdown",
   "id": "69ea25dd",
   "metadata": {},
   "source": [
    "## Saving to File "
   ]
  },
  {
   "cell_type": "code",
   "execution_count": 12,
   "id": "08fd4ef5",
   "metadata": {},
   "outputs": [],
   "source": [
    "data.to_json(DATA_JSON_FILE)"
   ]
  },
  {
   "cell_type": "markdown",
   "id": "1e08365d",
   "metadata": {},
   "source": [
    "## Remove HTML Tags"
   ]
  },
  {
   "cell_type": "code",
   "execution_count": 13,
   "id": "81d2cbb2",
   "metadata": {},
   "outputs": [],
   "source": [
    "soup = BeautifulSoup(data.at[2, 'MESSAGE'], 'html.parser')\n",
    "#print(soup.prettify())"
   ]
  },
  {
   "cell_type": "markdown",
   "id": "02f4a731",
   "metadata": {},
   "source": [
    "## Process Emails"
   ]
  },
  {
   "cell_type": "code",
   "execution_count": 14,
   "id": "7ed36e52",
   "metadata": {},
   "outputs": [],
   "source": [
    "def msg_nohtml(message, stemmer = PorterStemmer(), \n",
    "                  stop_words = set(stopwords.words('english'))): \n",
    "    \n",
    "    # Remove HTML tags \n",
    "    soup = BeautifulSoup(message, 'html.parser')\n",
    "    cleaned_text = soup.get_text()\n",
    "    \n",
    "    #Converts to lower case and splots up  the individual words --> evaluate if tolower() is needed? \n",
    "    words = word_tokenize(cleaned_text.lower())\n",
    "    \n",
    "    filtered_words = []\n",
    "    \n",
    "    for word in words: \n",
    "        #isalpha returns True for alphabetic letters (Aa-Zz)\n",
    "        if word not in stop_words and word.isalpha():\n",
    "            filtered_words.append(stemmer.stem(word))\n",
    "    \n",
    "    \n",
    "    return filtered_words"
   ]
  },
  {
   "cell_type": "markdown",
   "id": "3d79e63b",
   "metadata": {},
   "source": [
    "# Apply Cleaning and Tokenisation to all Messages"
   ]
  },
  {
   "cell_type": "markdown",
   "id": "6e3d8c22",
   "metadata": {},
   "source": [
    "### Slicing Dataframes and Series & Creating Subsets"
   ]
  },
  {
   "cell_type": "code",
   "execution_count": 15,
   "id": "6bda497c",
   "metadata": {},
   "outputs": [
    {
     "name": "stderr",
     "output_type": "stream",
     "text": [
      "/Users/rachaeldoherty/opt/anaconda3/lib/python3.8/site-packages/bs4/__init__.py:417: MarkupResemblesLocatorWarning: \"http://www.post-gazette.com/columnists/20020905brian5\n",
      "\" looks like a URL. Beautiful Soup is not an HTTP client. You should probably use an HTTP client like requests to get the document behind the URL, and feed that document to Beautiful Soup.\n",
      "  warnings.warn(\n"
     ]
    },
    {
     "name": "stdout",
     "output_type": "stream",
     "text": [
      "CPU times: user 29.2 s, sys: 72.1 ms, total: 29.3 s\n",
      "Wall time: 29.3 s\n"
     ]
    }
   ],
   "source": [
    "%%time\n",
    "\n",
    "nested_list = data.MESSAGE.apply(msg_nohtml)"
   ]
  },
  {
   "cell_type": "code",
   "execution_count": 16,
   "id": "dfccbfc8",
   "metadata": {},
   "outputs": [],
   "source": [
    "docs_id_spam = data[data.CATEGORY ==1].index\n",
    "docs_id_ham = data[data.CATEGORY ==0].index"
   ]
  },
  {
   "cell_type": "code",
   "execution_count": 17,
   "id": "79e4b3c4",
   "metadata": {},
   "outputs": [],
   "source": [
    "nested_list_spam = nested_list.loc[docs_id_spam]"
   ]
  },
  {
   "cell_type": "code",
   "execution_count": 18,
   "id": "d44c1b7a",
   "metadata": {},
   "outputs": [],
   "source": [
    "nested_list_ham = nested_list.loc[docs_id_ham]"
   ]
  },
  {
   "cell_type": "code",
   "execution_count": 19,
   "id": "616bd33a",
   "metadata": {},
   "outputs": [
    {
     "data": {
      "text/plain": [
       "20815"
      ]
     },
     "execution_count": 19,
     "metadata": {},
     "output_type": "execute_result"
    }
   ],
   "source": [
    "flat_list_ham = [item for sublist in nested_list_ham for item in sublist]\n",
    "#total number of unique words in the ham messages\n",
    "normal_words = pd.Series(flat_list_ham).value_counts() \n",
    "#total number of words in ham messages\n",
    "normal_words.shape[0] "
   ]
  },
  {
   "cell_type": "code",
   "execution_count": 20,
   "id": "4226e673",
   "metadata": {},
   "outputs": [
    {
     "data": {
      "text/plain": [
       "13242"
      ]
     },
     "execution_count": 20,
     "metadata": {},
     "output_type": "execute_result"
    }
   ],
   "source": [
    "flat_list_spam = [item for sublist in nested_list_spam for item in sublist]\n",
    "#total number of unique words in the spam messages\n",
    "spammy_words = pd.Series(flat_list_spam).value_counts() \n",
    "#total number of words in spam messages\n",
    "spammy_words.shape[0] "
   ]
  },
  {
   "cell_type": "markdown",
   "id": "006c98eb",
   "metadata": {},
   "source": [
    "# Generate Vocabularly & Dictionary --> generate for the STEMMED list of words"
   ]
  },
  {
   "cell_type": "code",
   "execution_count": 21,
   "id": "cd3cfe0d",
   "metadata": {},
   "outputs": [
    {
     "name": "stderr",
     "output_type": "stream",
     "text": [
      "/Users/rachaeldoherty/opt/anaconda3/lib/python3.8/site-packages/bs4/__init__.py:417: MarkupResemblesLocatorWarning: \"http://www.post-gazette.com/columnists/20020905brian5\n",
      "\" looks like a URL. Beautiful Soup is not an HTTP client. You should probably use an HTTP client like requests to get the document behind the URL, and feed that document to Beautiful Soup.\n",
      "  warnings.warn(\n"
     ]
    }
   ],
   "source": [
    "stemmed_nested_list = data.MESSAGE.apply(msg_nohtml)\n",
    "flat_stemmed_list = [item for sublist in stemmed_nested_list for item in sublist]"
   ]
  },
  {
   "cell_type": "code",
   "execution_count": 22,
   "id": "efd55c47",
   "metadata": {},
   "outputs": [
    {
     "name": "stdout",
     "output_type": "stream",
     "text": [
      "Number of unique words:  27334\n"
     ]
    }
   ],
   "source": [
    "unique_words = pd.Series(flat_stemmed_list).value_counts()\n",
    "frequent_words = unique_words[0:VOCAB_SIZE]\n",
    "print('Number of unique words: ', unique_words.shape[0])"
   ]
  },
  {
   "cell_type": "markdown",
   "id": "ba86d2fc",
   "metadata": {},
   "source": [
    "### Create Vocab dataframe with a WORD_ID "
   ]
  },
  {
   "cell_type": "code",
   "execution_count": 23,
   "id": "cc47c24f",
   "metadata": {},
   "outputs": [],
   "source": [
    "word_ids = list(range(0, VOCAB_SIZE))\n",
    "vocab = pd.DataFrame({'VOCAB_WORD': frequent_words.index.values}, index=word_ids)\n",
    "vocab.index.name = 'WORD_ID'"
   ]
  },
  {
   "cell_type": "code",
   "execution_count": 24,
   "id": "2db296e5",
   "metadata": {},
   "outputs": [],
   "source": [
    "# Save Vocab to CSV file\n",
    "vocab.to_csv(WORD_ID_FILE, index_label = vocab.index.name, header = vocab.VOCAB_WORD.name)"
   ]
  },
  {
   "cell_type": "markdown",
   "id": "5354f5ec",
   "metadata": {},
   "source": [
    "### Check - Certain word part of Vocab"
   ]
  },
  {
   "cell_type": "code",
   "execution_count": 25,
   "id": "3e6c5dd4",
   "metadata": {},
   "outputs": [
    {
     "data": {
      "text/plain": [
       "True"
      ]
     },
     "execution_count": 25,
     "metadata": {},
     "output_type": "execute_result"
    }
   ],
   "source": [
    "'hello' in set(vocab.VOCAB_WORD)"
   ]
  },
  {
   "cell_type": "markdown",
   "id": "d63f25ff",
   "metadata": {},
   "source": [
    "# Generate Features and a Sparse Matrix \n",
    "\n",
    "Creating a dataFrame with one Word per Column"
   ]
  },
  {
   "cell_type": "code",
   "execution_count": 26,
   "id": "27f27eb4",
   "metadata": {},
   "outputs": [
    {
     "data": {
      "text/plain": [
       "Doc_ID\n",
       "0       [dear, homeown, interest, rate, lowest, point,...\n",
       "1       [attent, must, comput, user, packag, deal, nor...\n",
       "2       [messag, mime, format, dare, tri, find, better...\n",
       "3       [import, inform, new, domain, name, final, ava...\n",
       "4       [bottom, line, give, away, cd, free, peopl, li...\n",
       "                              ...                        \n",
       "5791    [one, work, well, week, te, updat, server, syn...\n",
       "5792    [damien, morton, quot, approv, html, abl, say,...\n",
       "5793    [mon, che, wrote, that, correct, line, ad, rep...\n",
       "5794    [upon, time, manfr, wrote, would, like, instal...\n",
       "5795    [run, pick, use, new, ftoc, button, show, mess...\n",
       "Name: MESSAGE, Length: 5796, dtype: object"
      ]
     },
     "execution_count": 26,
     "metadata": {},
     "output_type": "execute_result"
    }
   ],
   "source": [
    "stemmed_nested_list"
   ]
  },
  {
   "cell_type": "code",
   "execution_count": 27,
   "id": "ffe1922e",
   "metadata": {},
   "outputs": [
    {
     "data": {
      "text/html": [
       "<div>\n",
       "<style scoped>\n",
       "    .dataframe tbody tr th:only-of-type {\n",
       "        vertical-align: middle;\n",
       "    }\n",
       "\n",
       "    .dataframe tbody tr th {\n",
       "        vertical-align: top;\n",
       "    }\n",
       "\n",
       "    .dataframe thead th {\n",
       "        text-align: right;\n",
       "    }\n",
       "</style>\n",
       "<table border=\"1\" class=\"dataframe\">\n",
       "  <thead>\n",
       "    <tr style=\"text-align: right;\">\n",
       "      <th></th>\n",
       "      <th>0</th>\n",
       "      <th>1</th>\n",
       "      <th>2</th>\n",
       "      <th>3</th>\n",
       "      <th>4</th>\n",
       "      <th>5</th>\n",
       "      <th>6</th>\n",
       "      <th>7</th>\n",
       "      <th>8</th>\n",
       "      <th>9</th>\n",
       "      <th>...</th>\n",
       "      <th>7661</th>\n",
       "      <th>7662</th>\n",
       "      <th>7663</th>\n",
       "      <th>7664</th>\n",
       "      <th>7665</th>\n",
       "      <th>7666</th>\n",
       "      <th>7667</th>\n",
       "      <th>7668</th>\n",
       "      <th>7669</th>\n",
       "      <th>7670</th>\n",
       "    </tr>\n",
       "  </thead>\n",
       "  <tbody>\n",
       "    <tr>\n",
       "      <th>0</th>\n",
       "      <td>dear</td>\n",
       "      <td>homeown</td>\n",
       "      <td>interest</td>\n",
       "      <td>rate</td>\n",
       "      <td>lowest</td>\n",
       "      <td>point</td>\n",
       "      <td>year</td>\n",
       "      <td>help</td>\n",
       "      <td>find</td>\n",
       "      <td>best</td>\n",
       "      <td>...</td>\n",
       "      <td>None</td>\n",
       "      <td>None</td>\n",
       "      <td>None</td>\n",
       "      <td>None</td>\n",
       "      <td>None</td>\n",
       "      <td>None</td>\n",
       "      <td>None</td>\n",
       "      <td>None</td>\n",
       "      <td>None</td>\n",
       "      <td>None</td>\n",
       "    </tr>\n",
       "    <tr>\n",
       "      <th>1</th>\n",
       "      <td>attent</td>\n",
       "      <td>must</td>\n",
       "      <td>comput</td>\n",
       "      <td>user</td>\n",
       "      <td>packag</td>\n",
       "      <td>deal</td>\n",
       "      <td>norton</td>\n",
       "      <td>systemwork</td>\n",
       "      <td>softwar</td>\n",
       "      <td>suit</td>\n",
       "      <td>...</td>\n",
       "      <td>None</td>\n",
       "      <td>None</td>\n",
       "      <td>None</td>\n",
       "      <td>None</td>\n",
       "      <td>None</td>\n",
       "      <td>None</td>\n",
       "      <td>None</td>\n",
       "      <td>None</td>\n",
       "      <td>None</td>\n",
       "      <td>None</td>\n",
       "    </tr>\n",
       "    <tr>\n",
       "      <th>2</th>\n",
       "      <td>messag</td>\n",
       "      <td>mime</td>\n",
       "      <td>format</td>\n",
       "      <td>dare</td>\n",
       "      <td>tri</td>\n",
       "      <td>find</td>\n",
       "      <td>better</td>\n",
       "      <td>annuiti</td>\n",
       "      <td>guarante</td>\n",
       "      <td>year</td>\n",
       "      <td>...</td>\n",
       "      <td>None</td>\n",
       "      <td>None</td>\n",
       "      <td>None</td>\n",
       "      <td>None</td>\n",
       "      <td>None</td>\n",
       "      <td>None</td>\n",
       "      <td>None</td>\n",
       "      <td>None</td>\n",
       "      <td>None</td>\n",
       "      <td>None</td>\n",
       "    </tr>\n",
       "    <tr>\n",
       "      <th>3</th>\n",
       "      <td>import</td>\n",
       "      <td>inform</td>\n",
       "      <td>new</td>\n",
       "      <td>domain</td>\n",
       "      <td>name</td>\n",
       "      <td>final</td>\n",
       "      <td>avail</td>\n",
       "      <td>gener</td>\n",
       "      <td>public</td>\n",
       "      <td>discount</td>\n",
       "      <td>...</td>\n",
       "      <td>None</td>\n",
       "      <td>None</td>\n",
       "      <td>None</td>\n",
       "      <td>None</td>\n",
       "      <td>None</td>\n",
       "      <td>None</td>\n",
       "      <td>None</td>\n",
       "      <td>None</td>\n",
       "      <td>None</td>\n",
       "      <td>None</td>\n",
       "    </tr>\n",
       "    <tr>\n",
       "      <th>4</th>\n",
       "      <td>bottom</td>\n",
       "      <td>line</td>\n",
       "      <td>give</td>\n",
       "      <td>away</td>\n",
       "      <td>cd</td>\n",
       "      <td>free</td>\n",
       "      <td>peopl</td>\n",
       "      <td>like</td>\n",
       "      <td>one</td>\n",
       "      <td>month</td>\n",
       "      <td>...</td>\n",
       "      <td>None</td>\n",
       "      <td>None</td>\n",
       "      <td>None</td>\n",
       "      <td>None</td>\n",
       "      <td>None</td>\n",
       "      <td>None</td>\n",
       "      <td>None</td>\n",
       "      <td>None</td>\n",
       "      <td>None</td>\n",
       "      <td>None</td>\n",
       "    </tr>\n",
       "  </tbody>\n",
       "</table>\n",
       "<p>5 rows × 7671 columns</p>\n",
       "</div>"
      ],
      "text/plain": [
       "     0        1         2       3       4      5       6           7     \\\n",
       "0    dear  homeown  interest    rate  lowest  point    year        help   \n",
       "1  attent     must    comput    user  packag   deal  norton  systemwork   \n",
       "2  messag     mime    format    dare     tri   find  better     annuiti   \n",
       "3  import   inform       new  domain    name  final   avail       gener   \n",
       "4  bottom     line      give    away      cd   free   peopl        like   \n",
       "\n",
       "       8         9     ...  7661  7662  7663  7664  7665  7666  7667  7668  \\\n",
       "0      find      best  ...  None  None  None  None  None  None  None  None   \n",
       "1   softwar      suit  ...  None  None  None  None  None  None  None  None   \n",
       "2  guarante      year  ...  None  None  None  None  None  None  None  None   \n",
       "3    public  discount  ...  None  None  None  None  None  None  None  None   \n",
       "4       one     month  ...  None  None  None  None  None  None  None  None   \n",
       "\n",
       "   7669  7670  \n",
       "0  None  None  \n",
       "1  None  None  \n",
       "2  None  None  \n",
       "3  None  None  \n",
       "4  None  None  \n",
       "\n",
       "[5 rows x 7671 columns]"
      ]
     },
     "execution_count": 27,
     "metadata": {},
     "output_type": "execute_result"
    }
   ],
   "source": [
    "# Panda List = stemmed_nested_list  \n",
    "# Convert stemm_nested_list from a series of list to a nested list\n",
    "word_columns_df = pd.DataFrame.from_records(stemmed_nested_list.tolist())\n",
    "word_columns_df.head()"
   ]
  },
  {
   "cell_type": "code",
   "execution_count": 28,
   "id": "ec642aa6",
   "metadata": {},
   "outputs": [
    {
     "data": {
      "text/plain": [
       "(5796, 7671)"
      ]
     },
     "execution_count": 28,
     "metadata": {},
     "output_type": "execute_result"
    }
   ],
   "source": [
    "word_columns_df.shape"
   ]
  },
  {
   "cell_type": "markdown",
   "id": "4e760091",
   "metadata": {},
   "source": [
    "# Splitting the Data into a Training and Testing Dataset"
   ]
  },
  {
   "cell_type": "code",
   "execution_count": 29,
   "id": "c0b00929",
   "metadata": {},
   "outputs": [],
   "source": [
    "X_train, X_test, y_train, y_test = train_test_split(word_columns_df, \n",
    "                                                    data.CATEGORY, \n",
    "                                                    test_size=0.3, \n",
    "                                                    random_state =42)"
   ]
  },
  {
   "cell_type": "code",
   "execution_count": 30,
   "id": "a08e8e0d",
   "metadata": {},
   "outputs": [
    {
     "name": "stdout",
     "output_type": "stream",
     "text": [
      "# of training samples 4057\n",
      "Fraction of training samples 0.6999654934437544\n"
     ]
    }
   ],
   "source": [
    "print('# of training samples', X_train.shape[0])\n",
    "print('Fraction of training samples', X_train.shape[0]/word_columns_df.shape[0])"
   ]
  },
  {
   "cell_type": "code",
   "execution_count": 31,
   "id": "906218f6",
   "metadata": {},
   "outputs": [
    {
     "data": {
      "text/html": [
       "<div>\n",
       "<style scoped>\n",
       "    .dataframe tbody tr th:only-of-type {\n",
       "        vertical-align: middle;\n",
       "    }\n",
       "\n",
       "    .dataframe tbody tr th {\n",
       "        vertical-align: top;\n",
       "    }\n",
       "\n",
       "    .dataframe thead th {\n",
       "        text-align: right;\n",
       "    }\n",
       "</style>\n",
       "<table border=\"1\" class=\"dataframe\">\n",
       "  <thead>\n",
       "    <tr style=\"text-align: right;\">\n",
       "      <th></th>\n",
       "      <th>0</th>\n",
       "      <th>1</th>\n",
       "      <th>2</th>\n",
       "      <th>3</th>\n",
       "      <th>4</th>\n",
       "      <th>5</th>\n",
       "      <th>6</th>\n",
       "      <th>7</th>\n",
       "      <th>8</th>\n",
       "      <th>9</th>\n",
       "      <th>...</th>\n",
       "      <th>7661</th>\n",
       "      <th>7662</th>\n",
       "      <th>7663</th>\n",
       "      <th>7664</th>\n",
       "      <th>7665</th>\n",
       "      <th>7666</th>\n",
       "      <th>7667</th>\n",
       "      <th>7668</th>\n",
       "      <th>7669</th>\n",
       "      <th>7670</th>\n",
       "    </tr>\n",
       "    <tr>\n",
       "      <th>DOC_ID</th>\n",
       "      <th></th>\n",
       "      <th></th>\n",
       "      <th></th>\n",
       "      <th></th>\n",
       "      <th></th>\n",
       "      <th></th>\n",
       "      <th></th>\n",
       "      <th></th>\n",
       "      <th></th>\n",
       "      <th></th>\n",
       "      <th></th>\n",
       "      <th></th>\n",
       "      <th></th>\n",
       "      <th></th>\n",
       "      <th></th>\n",
       "      <th></th>\n",
       "      <th></th>\n",
       "      <th></th>\n",
       "      <th></th>\n",
       "      <th></th>\n",
       "      <th></th>\n",
       "    </tr>\n",
       "  </thead>\n",
       "  <tbody>\n",
       "    <tr>\n",
       "      <th>4844</th>\n",
       "      <td>thu</td>\n",
       "      <td>jul</td>\n",
       "      <td>rodent</td>\n",
       "      <td>unusu</td>\n",
       "      <td>size</td>\n",
       "      <td>wrote</td>\n",
       "      <td>appli</td>\n",
       "      <td>one</td>\n",
       "      <td>three</td>\n",
       "      <td>order</td>\n",
       "      <td>...</td>\n",
       "      <td>None</td>\n",
       "      <td>None</td>\n",
       "      <td>None</td>\n",
       "      <td>None</td>\n",
       "      <td>None</td>\n",
       "      <td>None</td>\n",
       "      <td>None</td>\n",
       "      <td>None</td>\n",
       "      <td>None</td>\n",
       "      <td>None</td>\n",
       "    </tr>\n",
       "    <tr>\n",
       "      <th>4727</th>\n",
       "      <td>well</td>\n",
       "      <td>would</td>\n",
       "      <td>vaniti</td>\n",
       "      <td>list</td>\n",
       "      <td>forward</td>\n",
       "      <td>least</td>\n",
       "      <td>littl</td>\n",
       "      <td>pure</td>\n",
       "      <td>data</td>\n",
       "      <td>week</td>\n",
       "      <td>...</td>\n",
       "      <td>None</td>\n",
       "      <td>None</td>\n",
       "      <td>None</td>\n",
       "      <td>None</td>\n",
       "      <td>None</td>\n",
       "      <td>None</td>\n",
       "      <td>None</td>\n",
       "      <td>None</td>\n",
       "      <td>None</td>\n",
       "      <td>None</td>\n",
       "    </tr>\n",
       "    <tr>\n",
       "      <th>5022</th>\n",
       "      <td>world</td>\n",
       "      <td>wide</td>\n",
       "      <td>word</td>\n",
       "      <td>issu</td>\n",
       "      <td>saturday</td>\n",
       "      <td>august</td>\n",
       "      <td>sent</td>\n",
       "      <td>saturday</td>\n",
       "      <td>subscrib</td>\n",
       "      <td>least</td>\n",
       "      <td>...</td>\n",
       "      <td>None</td>\n",
       "      <td>None</td>\n",
       "      <td>None</td>\n",
       "      <td>None</td>\n",
       "      <td>None</td>\n",
       "      <td>None</td>\n",
       "      <td>None</td>\n",
       "      <td>None</td>\n",
       "      <td>None</td>\n",
       "      <td>None</td>\n",
       "    </tr>\n",
       "    <tr>\n",
       "      <th>3504</th>\n",
       "      <td>believ</td>\n",
       "      <td>spamassassin</td>\n",
       "      <td>maintain</td>\n",
       "      <td>scheme</td>\n",
       "      <td>wherebi</td>\n",
       "      <td>corpu</td>\n",
       "      <td>distribut</td>\n",
       "      <td>ie</td>\n",
       "      <td>sever</td>\n",
       "      <td>peopl</td>\n",
       "      <td>...</td>\n",
       "      <td>None</td>\n",
       "      <td>None</td>\n",
       "      <td>None</td>\n",
       "      <td>None</td>\n",
       "      <td>None</td>\n",
       "      <td>None</td>\n",
       "      <td>None</td>\n",
       "      <td>None</td>\n",
       "      <td>None</td>\n",
       "      <td>None</td>\n",
       "    </tr>\n",
       "    <tr>\n",
       "      <th>3921</th>\n",
       "      <td>sorri</td>\n",
       "      <td>think</td>\n",
       "      <td>send</td>\n",
       "      <td>realiz</td>\n",
       "      <td>list</td>\n",
       "      <td>sender</td>\n",
       "      <td>usual</td>\n",
       "      <td>anyawi</td>\n",
       "      <td>ask</td>\n",
       "      <td>harri</td>\n",
       "      <td>...</td>\n",
       "      <td>None</td>\n",
       "      <td>None</td>\n",
       "      <td>None</td>\n",
       "      <td>None</td>\n",
       "      <td>None</td>\n",
       "      <td>None</td>\n",
       "      <td>None</td>\n",
       "      <td>None</td>\n",
       "      <td>None</td>\n",
       "      <td>None</td>\n",
       "    </tr>\n",
       "  </tbody>\n",
       "</table>\n",
       "<p>5 rows × 7671 columns</p>\n",
       "</div>"
      ],
      "text/plain": [
       "          0             1         2       3         4       5          6     \\\n",
       "DOC_ID                                                                        \n",
       "4844       thu           jul    rodent   unusu      size   wrote      appli   \n",
       "4727      well         would    vaniti    list   forward   least      littl   \n",
       "5022     world          wide      word    issu  saturday  august       sent   \n",
       "3504    believ  spamassassin  maintain  scheme   wherebi   corpu  distribut   \n",
       "3921     sorri         think      send  realiz      list  sender      usual   \n",
       "\n",
       "            7         8      9     ...  7661  7662  7663  7664  7665  7666  \\\n",
       "DOC_ID                             ...                                       \n",
       "4844         one     three  order  ...  None  None  None  None  None  None   \n",
       "4727        pure      data   week  ...  None  None  None  None  None  None   \n",
       "5022    saturday  subscrib  least  ...  None  None  None  None  None  None   \n",
       "3504          ie     sever  peopl  ...  None  None  None  None  None  None   \n",
       "3921      anyawi       ask  harri  ...  None  None  None  None  None  None   \n",
       "\n",
       "        7667  7668  7669  7670  \n",
       "DOC_ID                          \n",
       "4844    None  None  None  None  \n",
       "4727    None  None  None  None  \n",
       "5022    None  None  None  None  \n",
       "3504    None  None  None  None  \n",
       "3921    None  None  None  None  \n",
       "\n",
       "[5 rows x 7671 columns]"
      ]
     },
     "execution_count": 31,
     "metadata": {},
     "output_type": "execute_result"
    }
   ],
   "source": [
    "X_train.index.name = X_test.index.name = 'DOC_ID'\n",
    "X_train.head()"
   ]
  },
  {
   "cell_type": "code",
   "execution_count": 32,
   "id": "1528381d",
   "metadata": {},
   "outputs": [
    {
     "data": {
      "text/plain": [
       "Doc_ID\n",
       "4844    0\n",
       "4727    0\n",
       "5022    0\n",
       "3504    0\n",
       "3921    0\n",
       "Name: CATEGORY, dtype: int64"
      ]
     },
     "execution_count": 32,
     "metadata": {},
     "output_type": "execute_result"
    }
   ],
   "source": [
    "y_train.head()"
   ]
  },
  {
   "cell_type": "code",
   "execution_count": 33,
   "id": "6a276f6e",
   "metadata": {},
   "outputs": [],
   "source": [
    "word_index = pd.Index(vocab.VOCAB_WORD)"
   ]
  },
  {
   "cell_type": "code",
   "execution_count": null,
   "id": "3dd0163e",
   "metadata": {},
   "outputs": [],
   "source": []
  },
  {
   "cell_type": "code",
   "execution_count": 34,
   "id": "b84bdf82",
   "metadata": {},
   "outputs": [],
   "source": [
    "def make_sparse_matrix(df, indexed_words, labels):\n",
    "    \"\"\"\n",
    "    Returns Sparse Matrix as dataframe\n",
    "    \n",
    "    df: a dataframe with words in the columns with a document is as an index (X_train or X_test)\n",
    "    indexed_words: index of words ordered by word_id\n",
    "    labels: CATEGORY as a series (y_train or y_test)\n",
    "    \"\"\"\n",
    "    \n",
    "    \n",
    "    rows = df.shape[0]\n",
    "    cols = df.shape[1]\n",
    "    word_set = set(indexed_words)\n",
    "    \n",
    "    dictionary_list = []\n",
    "    \n",
    "    for i in range(rows):\n",
    "        for j in range(cols):\n",
    "            \n",
    "            word = df.iat[i,j]\n",
    "            if word in word_set: \n",
    "                doc_id = df.index[i]\n",
    "                word_id = indexed_words.get_loc(word)\n",
    "                category = labels.at[doc_id]\n",
    "                \n",
    "                item = {'LABEL' : category, 'DOC_ID': doc_id, \n",
    "                       'OCCURANCE' :1, 'WORD_ID': word_id}\n",
    "                \n",
    "                dictionary_list.append(item)\n",
    "    \n",
    "    return pd.DataFrame(dictionary_list)"
   ]
  },
  {
   "cell_type": "code",
   "execution_count": 35,
   "id": "8ba4e854",
   "metadata": {},
   "outputs": [
    {
     "name": "stdout",
     "output_type": "stream",
     "text": [
      "CPU times: user 8min, sys: 566 ms, total: 8min\n",
      "Wall time: 8min 1s\n"
     ]
    }
   ],
   "source": [
    "%%time \n",
    "sparse_train_df = make_sparse_matrix(X_train, word_index, y_train)"
   ]
  },
  {
   "cell_type": "code",
   "execution_count": 36,
   "id": "8e39700a",
   "metadata": {},
   "outputs": [
    {
     "data": {
      "text/html": [
       "<div>\n",
       "<style scoped>\n",
       "    .dataframe tbody tr th:only-of-type {\n",
       "        vertical-align: middle;\n",
       "    }\n",
       "\n",
       "    .dataframe tbody tr th {\n",
       "        vertical-align: top;\n",
       "    }\n",
       "\n",
       "    .dataframe thead th {\n",
       "        text-align: right;\n",
       "    }\n",
       "</style>\n",
       "<table border=\"1\" class=\"dataframe\">\n",
       "  <thead>\n",
       "    <tr style=\"text-align: right;\">\n",
       "      <th></th>\n",
       "      <th>LABEL</th>\n",
       "      <th>DOC_ID</th>\n",
       "      <th>OCCURANCE</th>\n",
       "      <th>WORD_ID</th>\n",
       "    </tr>\n",
       "  </thead>\n",
       "  <tbody>\n",
       "    <tr>\n",
       "      <th>0</th>\n",
       "      <td>0</td>\n",
       "      <td>4844</td>\n",
       "      <td>1</td>\n",
       "      <td>392</td>\n",
       "    </tr>\n",
       "    <tr>\n",
       "      <th>1</th>\n",
       "      <td>0</td>\n",
       "      <td>4844</td>\n",
       "      <td>1</td>\n",
       "      <td>492</td>\n",
       "    </tr>\n",
       "    <tr>\n",
       "      <th>2</th>\n",
       "      <td>0</td>\n",
       "      <td>4844</td>\n",
       "      <td>1</td>\n",
       "      <td>2356</td>\n",
       "    </tr>\n",
       "    <tr>\n",
       "      <th>3</th>\n",
       "      <td>0</td>\n",
       "      <td>4844</td>\n",
       "      <td>1</td>\n",
       "      <td>497</td>\n",
       "    </tr>\n",
       "    <tr>\n",
       "      <th>4</th>\n",
       "      <td>0</td>\n",
       "      <td>4844</td>\n",
       "      <td>1</td>\n",
       "      <td>37</td>\n",
       "    </tr>\n",
       "  </tbody>\n",
       "</table>\n",
       "</div>"
      ],
      "text/plain": [
       "   LABEL  DOC_ID  OCCURANCE  WORD_ID\n",
       "0      0    4844          1      392\n",
       "1      0    4844          1      492\n",
       "2      0    4844          1     2356\n",
       "3      0    4844          1      497\n",
       "4      0    4844          1       37"
      ]
     },
     "execution_count": 36,
     "metadata": {},
     "output_type": "execute_result"
    }
   ],
   "source": [
    "sparse_train_df[:5]"
   ]
  },
  {
   "cell_type": "code",
   "execution_count": 37,
   "id": "90e177a6",
   "metadata": {},
   "outputs": [
    {
     "data": {
      "text/plain": [
       "(444958, 4)"
      ]
     },
     "execution_count": 37,
     "metadata": {},
     "output_type": "execute_result"
    }
   ],
   "source": [
    "sparse_train_df.shape"
   ]
  },
  {
   "cell_type": "code",
   "execution_count": 38,
   "id": "cf4c253f",
   "metadata": {},
   "outputs": [],
   "source": [
    "## combine occurrences with the Pandas groupby() --> similar to pivot table in excel \n",
    "trained_grouped = sparse_train_df.groupby(['DOC_ID', 'WORD_ID', 'LABEL']).sum()"
   ]
  },
  {
   "cell_type": "code",
   "execution_count": 39,
   "id": "de20cf65",
   "metadata": {},
   "outputs": [
    {
     "data": {
      "text/html": [
       "<div>\n",
       "<style scoped>\n",
       "    .dataframe tbody tr th:only-of-type {\n",
       "        vertical-align: middle;\n",
       "    }\n",
       "\n",
       "    .dataframe tbody tr th {\n",
       "        vertical-align: top;\n",
       "    }\n",
       "\n",
       "    .dataframe thead th {\n",
       "        text-align: right;\n",
       "    }\n",
       "</style>\n",
       "<table border=\"1\" class=\"dataframe\">\n",
       "  <thead>\n",
       "    <tr style=\"text-align: right;\">\n",
       "      <th></th>\n",
       "      <th></th>\n",
       "      <th></th>\n",
       "      <th>OCCURANCE</th>\n",
       "    </tr>\n",
       "    <tr>\n",
       "      <th>DOC_ID</th>\n",
       "      <th>WORD_ID</th>\n",
       "      <th>LABEL</th>\n",
       "      <th></th>\n",
       "    </tr>\n",
       "  </thead>\n",
       "  <tbody>\n",
       "    <tr>\n",
       "      <th rowspan=\"5\" valign=\"top\">0</th>\n",
       "      <th>0</th>\n",
       "      <th>1</th>\n",
       "      <td>2</td>\n",
       "    </tr>\n",
       "    <tr>\n",
       "      <th>7</th>\n",
       "      <th>1</th>\n",
       "      <td>1</td>\n",
       "    </tr>\n",
       "    <tr>\n",
       "      <th>16</th>\n",
       "      <th>1</th>\n",
       "      <td>1</td>\n",
       "    </tr>\n",
       "    <tr>\n",
       "      <th>18</th>\n",
       "      <th>1</th>\n",
       "      <td>1</td>\n",
       "    </tr>\n",
       "    <tr>\n",
       "      <th>24</th>\n",
       "      <th>1</th>\n",
       "      <td>1</td>\n",
       "    </tr>\n",
       "  </tbody>\n",
       "</table>\n",
       "</div>"
      ],
      "text/plain": [
       "                      OCCURANCE\n",
       "DOC_ID WORD_ID LABEL           \n",
       "0      0       1              2\n",
       "       7       1              1\n",
       "       16      1              1\n",
       "       18      1              1\n",
       "       24      1              1"
      ]
     },
     "execution_count": 39,
     "metadata": {},
     "output_type": "execute_result"
    }
   ],
   "source": [
    "trained_grouped.head()"
   ]
  },
  {
   "cell_type": "code",
   "execution_count": 40,
   "id": "3a5c3363",
   "metadata": {},
   "outputs": [
    {
     "data": {
      "text/plain": [
       "'Dear Homeowner,\\n\\n \\n\\nInterest Rates are at their lowest point in 40 years!\\n\\n\\n\\nWe help you find the best rate for your situation by\\n\\nmatching your needs with hundreds of lenders!\\n\\n\\n\\nHome Improvement, Refinance, Second Mortgage,\\n\\nHome Equity Loans, and More! Even with less than\\n\\nperfect credit!\\n\\n\\n\\nThis service is 100% FREE to home owners and new\\n\\nhome buyers without any obligation. \\n\\n\\n\\nJust fill out a quick, simple form and jump-start\\n\\nyour future plans today!\\n\\n\\n\\n\\n\\nVisit http://61.145.116.186/user0201/index.asp?Afft=QM10\\n\\n\\n\\n\\n\\n\\n\\n\\n\\n\\n\\n\\n\\nTo unsubscribe, please visit:\\n\\n\\n\\nhttp://61.145.116.186/light/watch.asp\\n\\n\\n\\n\\n'"
      ]
     },
     "execution_count": 40,
     "metadata": {},
     "output_type": "execute_result"
    }
   ],
   "source": [
    "data.MESSAGE[0] ## --> shows the html is actually links embedded into the email body "
   ]
  },
  {
   "cell_type": "code",
   "execution_count": 41,
   "id": "1ed0bff3",
   "metadata": {},
   "outputs": [
    {
     "data": {
      "text/html": [
       "<div>\n",
       "<style scoped>\n",
       "    .dataframe tbody tr th:only-of-type {\n",
       "        vertical-align: middle;\n",
       "    }\n",
       "\n",
       "    .dataframe tbody tr th {\n",
       "        vertical-align: top;\n",
       "    }\n",
       "\n",
       "    .dataframe thead th {\n",
       "        text-align: right;\n",
       "    }\n",
       "</style>\n",
       "<table border=\"1\" class=\"dataframe\">\n",
       "  <thead>\n",
       "    <tr style=\"text-align: right;\">\n",
       "      <th></th>\n",
       "      <th>DOC_ID</th>\n",
       "      <th>WORD_ID</th>\n",
       "      <th>LABEL</th>\n",
       "      <th>OCCURANCE</th>\n",
       "    </tr>\n",
       "  </thead>\n",
       "  <tbody>\n",
       "    <tr>\n",
       "      <th>0</th>\n",
       "      <td>0</td>\n",
       "      <td>0</td>\n",
       "      <td>1</td>\n",
       "      <td>2</td>\n",
       "    </tr>\n",
       "    <tr>\n",
       "      <th>1</th>\n",
       "      <td>0</td>\n",
       "      <td>7</td>\n",
       "      <td>1</td>\n",
       "      <td>1</td>\n",
       "    </tr>\n",
       "    <tr>\n",
       "      <th>2</th>\n",
       "      <td>0</td>\n",
       "      <td>16</td>\n",
       "      <td>1</td>\n",
       "      <td>1</td>\n",
       "    </tr>\n",
       "    <tr>\n",
       "      <th>3</th>\n",
       "      <td>0</td>\n",
       "      <td>18</td>\n",
       "      <td>1</td>\n",
       "      <td>1</td>\n",
       "    </tr>\n",
       "    <tr>\n",
       "      <th>4</th>\n",
       "      <td>0</td>\n",
       "      <td>24</td>\n",
       "      <td>1</td>\n",
       "      <td>1</td>\n",
       "    </tr>\n",
       "  </tbody>\n",
       "</table>\n",
       "</div>"
      ],
      "text/plain": [
       "   DOC_ID  WORD_ID  LABEL  OCCURANCE\n",
       "0       0        0      1          2\n",
       "1       0        7      1          1\n",
       "2       0       16      1          1\n",
       "3       0       18      1          1\n",
       "4       0       24      1          1"
      ]
     },
     "execution_count": 41,
     "metadata": {},
     "output_type": "execute_result"
    }
   ],
   "source": [
    "trained_grouped = trained_grouped.reset_index()\n",
    "trained_grouped.head()"
   ]
  },
  {
   "cell_type": "code",
   "execution_count": 42,
   "id": "1d073d13",
   "metadata": {},
   "outputs": [
    {
     "data": {
      "text/plain": [
       "(265568, 4)"
      ]
     },
     "execution_count": 42,
     "metadata": {},
     "output_type": "execute_result"
    }
   ],
   "source": [
    "trained_grouped.shape"
   ]
  },
  {
   "cell_type": "code",
   "execution_count": null,
   "id": "7130c5ae",
   "metadata": {},
   "outputs": [],
   "source": []
  },
  {
   "cell_type": "markdown",
   "id": "d0808bd3",
   "metadata": {},
   "source": [
    "# Save Training Data as .txt File"
   ]
  },
  {
   "cell_type": "code",
   "execution_count": 43,
   "id": "b93e805f",
   "metadata": {},
   "outputs": [],
   "source": [
    "np.savetxt(TRAINING_DATA_FILE, trained_grouped, fmt='%d')"
   ]
  },
  {
   "cell_type": "markdown",
   "id": "1b4f1fe0",
   "metadata": {},
   "source": [
    "# Create sparse matrix for the test data. Group the occurrences of the same word & save data as .txt file"
   ]
  },
  {
   "cell_type": "code",
   "execution_count": 44,
   "id": "2f621cb9",
   "metadata": {},
   "outputs": [
    {
     "data": {
      "text/plain": [
       "(1739, 7671)"
      ]
     },
     "execution_count": 44,
     "metadata": {},
     "output_type": "execute_result"
    }
   ],
   "source": [
    "X_test.shape"
   ]
  },
  {
   "cell_type": "code",
   "execution_count": 45,
   "id": "8597eed5",
   "metadata": {},
   "outputs": [
    {
     "name": "stdout",
     "output_type": "stream",
     "text": [
      "CPU times: user 3min 22s, sys: 291 ms, total: 3min 23s\n",
      "Wall time: 3min 23s\n"
     ]
    }
   ],
   "source": [
    "%%time\n",
    "sparse_test_df = make_sparse_matrix(X_test, word_index, y_test)"
   ]
  },
  {
   "cell_type": "code",
   "execution_count": 46,
   "id": "6bf09200",
   "metadata": {},
   "outputs": [
    {
     "data": {
      "text/plain": [
       "(187651, 4)"
      ]
     },
     "execution_count": 46,
     "metadata": {},
     "output_type": "execute_result"
    }
   ],
   "source": [
    "sparse_test_df.shape"
   ]
  },
  {
   "cell_type": "code",
   "execution_count": 47,
   "id": "776218f9",
   "metadata": {},
   "outputs": [],
   "source": [
    "test_grouped = sparse_test_df.groupby(['DOC_ID', 'WORD_ID', 'LABEL']).sum()"
   ]
  },
  {
   "cell_type": "code",
   "execution_count": 48,
   "id": "7e52192d",
   "metadata": {},
   "outputs": [
    {
     "data": {
      "text/html": [
       "<div>\n",
       "<style scoped>\n",
       "    .dataframe tbody tr th:only-of-type {\n",
       "        vertical-align: middle;\n",
       "    }\n",
       "\n",
       "    .dataframe tbody tr th {\n",
       "        vertical-align: top;\n",
       "    }\n",
       "\n",
       "    .dataframe thead th {\n",
       "        text-align: right;\n",
       "    }\n",
       "</style>\n",
       "<table border=\"1\" class=\"dataframe\">\n",
       "  <thead>\n",
       "    <tr style=\"text-align: right;\">\n",
       "      <th></th>\n",
       "      <th>DOC_ID</th>\n",
       "      <th>WORD_ID</th>\n",
       "      <th>LABEL</th>\n",
       "      <th>OCCURANCE</th>\n",
       "    </tr>\n",
       "  </thead>\n",
       "  <tbody>\n",
       "    <tr>\n",
       "      <th>0</th>\n",
       "      <td>8</td>\n",
       "      <td>7</td>\n",
       "      <td>1</td>\n",
       "      <td>1</td>\n",
       "    </tr>\n",
       "    <tr>\n",
       "      <th>1</th>\n",
       "      <td>8</td>\n",
       "      <td>8</td>\n",
       "      <td>1</td>\n",
       "      <td>1</td>\n",
       "    </tr>\n",
       "    <tr>\n",
       "      <th>2</th>\n",
       "      <td>8</td>\n",
       "      <td>12</td>\n",
       "      <td>1</td>\n",
       "      <td>1</td>\n",
       "    </tr>\n",
       "    <tr>\n",
       "      <th>3</th>\n",
       "      <td>8</td>\n",
       "      <td>21</td>\n",
       "      <td>1</td>\n",
       "      <td>2</td>\n",
       "    </tr>\n",
       "    <tr>\n",
       "      <th>4</th>\n",
       "      <td>8</td>\n",
       "      <td>26</td>\n",
       "      <td>1</td>\n",
       "      <td>1</td>\n",
       "    </tr>\n",
       "  </tbody>\n",
       "</table>\n",
       "</div>"
      ],
      "text/plain": [
       "   DOC_ID  WORD_ID  LABEL  OCCURANCE\n",
       "0       8        7      1          1\n",
       "1       8        8      1          1\n",
       "2       8       12      1          1\n",
       "3       8       21      1          2\n",
       "4       8       26      1          1"
      ]
     },
     "execution_count": 48,
     "metadata": {},
     "output_type": "execute_result"
    }
   ],
   "source": [
    "test_grouped = test_grouped.reset_index()\n",
    "test_grouped.head()"
   ]
  },
  {
   "cell_type": "code",
   "execution_count": 49,
   "id": "5d564c2b",
   "metadata": {},
   "outputs": [
    {
     "data": {
      "text/plain": [
       "(110579, 4)"
      ]
     },
     "execution_count": 49,
     "metadata": {},
     "output_type": "execute_result"
    }
   ],
   "source": [
    "test_grouped.shape"
   ]
  },
  {
   "cell_type": "code",
   "execution_count": 50,
   "id": "d9d63df7",
   "metadata": {},
   "outputs": [],
   "source": [
    "np.savetxt(TEST_DATA_FILE, test_grouped, fmt = '%d')"
   ]
  },
  {
   "cell_type": "code",
   "execution_count": null,
   "id": "7550a7f9",
   "metadata": {},
   "outputs": [],
   "source": []
  },
  {
   "cell_type": "markdown",
   "id": "606d8500",
   "metadata": {},
   "source": [
    "# Pre Processing Subtleties"
   ]
  },
  {
   "cell_type": "code",
   "execution_count": 51,
   "id": "17a97bfa",
   "metadata": {},
   "outputs": [],
   "source": [
    "train_doc_ids = set(trained_grouped.DOC_ID)\n",
    "test_doc_ids = set(test_grouped.DOC_ID)"
   ]
  },
  {
   "cell_type": "code",
   "execution_count": 52,
   "id": "688f3ea8",
   "metadata": {},
   "outputs": [
    {
     "data": {
      "text/plain": [
       "1723"
      ]
     },
     "execution_count": 52,
     "metadata": {},
     "output_type": "execute_result"
    }
   ],
   "source": [
    "len(test_doc_ids)"
   ]
  },
  {
   "cell_type": "code",
   "execution_count": 53,
   "id": "bd0a99c1",
   "metadata": {},
   "outputs": [
    {
     "data": {
      "text/plain": [
       "1739"
      ]
     },
     "execution_count": 53,
     "metadata": {},
     "output_type": "execute_result"
    }
   ],
   "source": [
    "len(X_test)"
   ]
  },
  {
   "cell_type": "code",
   "execution_count": 54,
   "id": "bb8f6284",
   "metadata": {},
   "outputs": [
    {
     "data": {
      "text/plain": [
       "Int64Index([4675, 4220, 2484, 2418, 5110, 1161, 3296,  101, 3337,  401,\n",
       "            ...\n",
       "            3674, 4885, 5120, 1338, 2671, 5295, 5740, 5069, 1293, 4354],\n",
       "           dtype='int64', name='DOC_ID', length=1739)"
      ]
     },
     "execution_count": 54,
     "metadata": {},
     "output_type": "execute_result"
    }
   ],
   "source": [
    "X_test.index"
   ]
  },
  {
   "cell_type": "code",
   "execution_count": 55,
   "id": "f1a243b9",
   "metadata": {},
   "outputs": [],
   "source": [
    "# set(X_test.index.values)"
   ]
  },
  {
   "cell_type": "code",
   "execution_count": 56,
   "id": "3d21b256",
   "metadata": {},
   "outputs": [],
   "source": [
    "#set(X_test.index.values) - test_doc_ids"
   ]
  },
  {
   "cell_type": "code",
   "execution_count": 57,
   "id": "f3f4990c",
   "metadata": {},
   "outputs": [
    {
     "data": {
      "text/plain": [
       "MESSAGE      ------=_NextPart_000_00A3_65E24E1C.A3468E63\\n\\...\n",
       "CATEGORY                                                     1\n",
       "File_Name               00095.17594a58d6736a8f6a1990b0b92090cd\n",
       "Name: 14, dtype: object"
      ]
     },
     "execution_count": 57,
     "metadata": {},
     "output_type": "execute_result"
    }
   ],
   "source": [
    "data.loc[14]"
   ]
  },
  {
   "cell_type": "code",
   "execution_count": null,
   "id": "04bf9f89",
   "metadata": {},
   "outputs": [],
   "source": []
  },
  {
   "cell_type": "markdown",
   "id": "b72a9c42",
   "metadata": {},
   "source": [
    "# Load the text into a Numpy Array"
   ]
  },
  {
   "cell_type": "code",
   "execution_count": 58,
   "id": "7ac68e45",
   "metadata": {},
   "outputs": [],
   "source": [
    "sparse_training_data = np.loadtxt(TRAINING_DATA_FILE, delimiter = ' ', dtype=int)\n",
    "sparse_testing_data = np.loadtxt(TEST_DATA_FILE, delimiter =' ', dtype = int) "
   ]
  },
  {
   "cell_type": "code",
   "execution_count": 59,
   "id": "64b1a7b2",
   "metadata": {},
   "outputs": [
    {
     "data": {
      "text/plain": [
       "array([[ 8,  7,  1,  1],\n",
       "       [ 8,  8,  1,  1],\n",
       "       [ 8, 12,  1,  1],\n",
       "       [ 8, 21,  1,  2],\n",
       "       [ 8, 26,  1,  1]])"
      ]
     },
     "execution_count": 59,
     "metadata": {},
     "output_type": "execute_result"
    }
   ],
   "source": [
    "sparse_testing_data[:5]"
   ]
  },
  {
   "cell_type": "code",
   "execution_count": 60,
   "id": "5feca33d",
   "metadata": {},
   "outputs": [
    {
     "data": {
      "text/plain": [
       "array([[ 0,  0,  1,  2],\n",
       "       [ 0,  7,  1,  1],\n",
       "       [ 0, 16,  1,  1],\n",
       "       [ 0, 18,  1,  1],\n",
       "       [ 0, 24,  1,  1]])"
      ]
     },
     "execution_count": 60,
     "metadata": {},
     "output_type": "execute_result"
    }
   ],
   "source": [
    "sparse_training_data[:5]"
   ]
  },
  {
   "cell_type": "markdown",
   "id": "d01795a8",
   "metadata": {},
   "source": [
    "# Create a Full Matrix from a Sparse Matrix"
   ]
  },
  {
   "cell_type": "code",
   "execution_count": 61,
   "id": "b1570ce4",
   "metadata": {},
   "outputs": [],
   "source": [
    "def make_full_matrix(sparse_matrix, nr_words, doc_idx=0, word_idx=1, cat_idx=2, freq_idx=3):\n",
    "    \"\"\"\n",
    "    Form a full matrix from a sparse matrix. Return a pandas dataframe. \n",
    "    Keyword arguments:\n",
    "    sparse_matrix -- numpy array\n",
    "    nr_words -- size of the vocabulary. Total number of tokens. \n",
    "    doc_idx -- position of the document id in the sparse matrix. Default: 1st column\n",
    "    word_idx -- position of the word id in the sparse matrix. Default: 2nd column\n",
    "    cat_idx -- position of the label (spam is 1, nonspam is 0). Default: 3rd column\n",
    "    freq_idx -- position of occurrence of word in sparse matrix. Default: 4th column\n",
    "    \"\"\"\n",
    "    column_names = ['DOC_ID'] + ['CATEGORY'] + list(range(0, VOCAB_SIZE))\n",
    "    doc_id_names = np.unique(sparse_matrix[:, 0])\n",
    "    full_matrix = pd.DataFrame(index=doc_id_names, columns=column_names)\n",
    "    full_matrix.fillna(value=0, inplace=True)\n",
    "    \n",
    "    for i in range(sparse_matrix.shape[0]):\n",
    "        doc_nr = sparse_matrix[i][doc_idx]\n",
    "        word_id = sparse_matrix[i][word_idx]\n",
    "        label = sparse_matrix[i][cat_idx]\n",
    "        occurrence = sparse_matrix[i][freq_idx]\n",
    "        \n",
    "        full_matrix.at[doc_nr, 'DOC_ID'] = doc_nr\n",
    "        full_matrix.at[doc_nr, 'CATEGORY'] = label\n",
    "        full_matrix.at[doc_nr, word_id] = occurrence\n",
    "    \n",
    "    full_matrix.set_index('DOC_ID', inplace=True)\n",
    "    return full_matrix"
   ]
  },
  {
   "cell_type": "code",
   "execution_count": 62,
   "id": "11d030e2",
   "metadata": {},
   "outputs": [
    {
     "name": "stdout",
     "output_type": "stream",
     "text": [
      "CPU times: user 7.39 s, sys: 87 ms, total: 7.48 s\n",
      "Wall time: 7.5 s\n"
     ]
    }
   ],
   "source": [
    "%%time\n",
    "full_training_data = make_full_matrix(sparse_training_data, VOCAB_SIZE)"
   ]
  },
  {
   "cell_type": "markdown",
   "id": "95b039d3",
   "metadata": {},
   "source": [
    "# Training the NC Model - Calculating the Probability of Spam"
   ]
  },
  {
   "cell_type": "code",
   "execution_count": 63,
   "id": "9f3306d9",
   "metadata": {},
   "outputs": [
    {
     "name": "stdout",
     "output_type": "stream",
     "text": [
      "Probability of spam is:  0.3111609367214748\n"
     ]
    }
   ],
   "source": [
    "prob_spam = full_training_data.CATEGORY.sum()/ full_training_data.CATEGORY.size\n",
    "print('Probability of spam is: ', prob_spam)"
   ]
  },
  {
   "cell_type": "code",
   "execution_count": 64,
   "id": "7dd7a036",
   "metadata": {},
   "outputs": [],
   "source": [
    "full_training_features = full_training_data.loc[:, full_training_data.columns != 'CATEGORY'] \n",
    "email_lengths = full_training_features.sum(axis=1)\n",
    "total_wordcount = email_lengths.sum()"
   ]
  },
  {
   "cell_type": "code",
   "execution_count": 65,
   "id": "1784221b",
   "metadata": {},
   "outputs": [],
   "source": [
    "spam_lengths = email_lengths[full_training_data.CATEGORY ==1]\n",
    "spam_wordcount = spam_lengths.sum()\n",
    "ham_lengths = email_lengths[full_training_data.CATEGORY == 0]\n",
    "ham_wordcount = ham_lengths.sum()"
   ]
  },
  {
   "cell_type": "code",
   "execution_count": 66,
   "id": "253cf0e5",
   "metadata": {},
   "outputs": [
    {
     "data": {
      "text/plain": [
       "0"
      ]
     },
     "execution_count": 66,
     "metadata": {},
     "output_type": "execute_result"
    }
   ],
   "source": [
    "##check\n",
    "spam_wordcount + ham_wordcount - total_wordcount"
   ]
  },
  {
   "cell_type": "code",
   "execution_count": 67,
   "id": "c18708e3",
   "metadata": {},
   "outputs": [
    {
     "data": {
      "text/plain": [
       "(4014, 2500)"
      ]
     },
     "execution_count": 67,
     "metadata": {},
     "output_type": "execute_result"
    }
   ],
   "source": [
    "full_training_features.shape"
   ]
  },
  {
   "cell_type": "code",
   "execution_count": 68,
   "id": "0f8133be",
   "metadata": {},
   "outputs": [],
   "source": [
    "train_spam_tokens = full_training_features.loc[full_training_data.CATEGORY ==1]\n",
    "summed_spam_tokens = train_spam_tokens.sum(axis = 0) +1 ##-->Laplase smoothing technique \n",
    "train_ham_tokens = full_training_features.loc[full_training_data.CATEGORY ==0]\n",
    "summed_ham_tokens = train_ham_tokens.sum(axis=0)+1"
   ]
  },
  {
   "cell_type": "code",
   "execution_count": 69,
   "id": "cb6fd336",
   "metadata": {},
   "outputs": [
    {
     "data": {
      "text/plain": [
       "2495    17\n",
       "2496    23\n",
       "2497    33\n",
       "2498    21\n",
       "2499    21\n",
       "dtype: int64"
      ]
     },
     "execution_count": 69,
     "metadata": {},
     "output_type": "execute_result"
    }
   ],
   "source": [
    "summed_ham_tokens.tail()"
   ]
  },
  {
   "cell_type": "code",
   "execution_count": 70,
   "id": "fa273313",
   "metadata": {},
   "outputs": [
    {
     "data": {
      "text/plain": [
       "21"
      ]
     },
     "execution_count": 70,
     "metadata": {},
     "output_type": "execute_result"
    }
   ],
   "source": [
    "train_ham_tokens[2499].sum()+1"
   ]
  },
  {
   "cell_type": "markdown",
   "id": "d084cd02",
   "metadata": {},
   "source": [
    "# P(Token | Spam) - Probability that a Token Occurs given the Email is Spam¶"
   ]
  },
  {
   "cell_type": "code",
   "execution_count": 71,
   "id": "cc0cbfb4",
   "metadata": {},
   "outputs": [],
   "source": [
    "prob_tokens_spam = summed_spam_tokens / (spam_wordcount + VOCAB_SIZE)"
   ]
  },
  {
   "cell_type": "markdown",
   "id": "de63ad18",
   "metadata": {},
   "source": [
    "# P(Token | Ham) - Probability that a Token Occurs given the Email is Nonspam"
   ]
  },
  {
   "cell_type": "code",
   "execution_count": 72,
   "id": "0d8daed7",
   "metadata": {},
   "outputs": [],
   "source": [
    "prob_tokens_ham = summed_ham_tokens / (ham_wordcount + VOCAB_SIZE)"
   ]
  },
  {
   "cell_type": "markdown",
   "id": "851ffddf",
   "metadata": {},
   "source": [
    "# P(Token) - Probability that Token Occurs"
   ]
  },
  {
   "cell_type": "code",
   "execution_count": 98,
   "id": "7548e588",
   "metadata": {},
   "outputs": [
    {
     "data": {
      "text/plain": [
       "0       0.015851\n",
       "1       0.007792\n",
       "2       0.007616\n",
       "3       0.006828\n",
       "4       0.006639\n",
       "          ...   \n",
       "2495    0.000063\n",
       "2496    0.000049\n",
       "2497    0.000081\n",
       "2498    0.000061\n",
       "2499    0.000063\n",
       "Length: 2500, dtype: float64"
      ]
     },
     "execution_count": 98,
     "metadata": {},
     "output_type": "execute_result"
    }
   ],
   "source": [
    "prob_tokens_all = full_training_features.sum(axis=0) / total_wordcount\n",
    "prob_tokens_all"
   ]
  },
  {
   "cell_type": "markdown",
   "id": "f419b717",
   "metadata": {},
   "source": [
    "# Save Trained Model "
   ]
  },
  {
   "cell_type": "code",
   "execution_count": 74,
   "id": "30ca6c83",
   "metadata": {},
   "outputs": [],
   "source": [
    "np.savetxt(TOKEN_SPAM_PROB_FILE, prob_tokens_spam)\n",
    "np.savetxt(TOKEN_HAM_PROB_FILE, prob_tokens_ham)\n",
    "np.savetxt(TOKEN_ALL_PROB_FILE, prob_tokens_all)"
   ]
  },
  {
   "cell_type": "markdown",
   "id": "8371e35b",
   "metadata": {},
   "source": [
    "# Prepare Test Data"
   ]
  },
  {
   "cell_type": "code",
   "execution_count": 75,
   "id": "1d0dd238",
   "metadata": {},
   "outputs": [
    {
     "data": {
      "text/plain": [
       "(110579, 4)"
      ]
     },
     "execution_count": 75,
     "metadata": {},
     "output_type": "execute_result"
    }
   ],
   "source": [
    "sparse_testing_data.shape"
   ]
  },
  {
   "cell_type": "code",
   "execution_count": 76,
   "id": "c312a267",
   "metadata": {},
   "outputs": [
    {
     "name": "stdout",
     "output_type": "stream",
     "text": [
      "CPU times: user 3.27 s, sys: 21.5 ms, total: 3.29 s\n",
      "Wall time: 3.29 s\n"
     ]
    }
   ],
   "source": [
    "%%time\n",
    "\n",
    "full_test_data = make_full_matrix(sparse_testing_data, nr_words=VOCAB_SIZE)"
   ]
  },
  {
   "cell_type": "code",
   "execution_count": 77,
   "id": "e525b6bb",
   "metadata": {},
   "outputs": [],
   "source": [
    "X_test = full_test_data.loc[:, full_test_data.columns != 'CATEGORY']\n",
    "y_test = full_test_data.CATEGORY"
   ]
  },
  {
   "cell_type": "code",
   "execution_count": 78,
   "id": "f5c955ea",
   "metadata": {},
   "outputs": [],
   "source": [
    "np.savetxt(TEST_TARGET_FILE, y_test)\n",
    "np.savetxt(TEST_FEATURE_MATRIX, X_test)"
   ]
  },
  {
   "cell_type": "markdown",
   "id": "e855d1f2",
   "metadata": {},
   "source": [
    "# Calculating Joint Probability "
   ]
  },
  {
   "cell_type": "markdown",
   "id": "b8face16",
   "metadata": {},
   "source": [
    "# Set the Prior \n",
    "\n",
    "$$P(Spam \\, | \\, X) = \\frac{P(X\\, | \\, Spam \\,) \\, P(Spam)} {P(X)} $$"
   ]
  },
  {
   "cell_type": "code",
   "execution_count": 79,
   "id": "ca0b553d",
   "metadata": {},
   "outputs": [
    {
     "data": {
      "text/plain": [
       "0.3111609367214748"
      ]
     },
     "execution_count": 79,
     "metadata": {},
     "output_type": "execute_result"
    }
   ],
   "source": [
    "prob_spam"
   ]
  },
  {
   "cell_type": "markdown",
   "id": "aa3b7f48",
   "metadata": {},
   "source": [
    "### In this calc, going to combine the joint prob and the conditional probability.\n",
    "### Calc the probability that the email is spam given the tokens using the Dot Product"
   ]
  },
  {
   "cell_type": "code",
   "execution_count": 80,
   "id": "5278db81",
   "metadata": {},
   "outputs": [],
   "source": [
    "#Loading the Data: \n",
    "#Features\n",
    "\n",
    "X_test = np.loadtxt(TEST_FEATURE_MATRIX, delimiter = ' ')\n",
    "#Target\n",
    "y_test = np.loadtxt(TEST_TARGET_FILE, delimiter = ' ')\n",
    "#Tken Probabilities\n",
    "prob_token_spam = np.loadtxt(TOKEN_SPAM_PROB_FILE, delimiter = ' ')\n",
    "prob_token_ham = np.loadtxt(TOKEN_HAM_PROB_FILE, delimiter = ' ')\n",
    "prob_all_tokens = np.loadtxt(TOKEN_ALL_PROB_FILE, delimiter = ' ')"
   ]
  },
  {
   "cell_type": "code",
   "execution_count": 81,
   "id": "3e87e637",
   "metadata": {},
   "outputs": [],
   "source": [
    "joint_log_ham= X_test.dot(np.log(prob_token_ham) - np.log(prob_all_tokens)) + np.log(1-prob_spam)"
   ]
  },
  {
   "cell_type": "code",
   "execution_count": 82,
   "id": "109756d4",
   "metadata": {},
   "outputs": [],
   "source": [
    "joint_log_spam = X_test.dot(np.log(prob_token_spam) - np.log(prob_all_tokens)) + np.log(prob_spam)"
   ]
  },
  {
   "cell_type": "markdown",
   "id": "8b744d4d",
   "metadata": {},
   "source": [
    "# Making predictions\n",
    "### Checking for higher joint probaility \n",
    "\n",
    "$$P(Spam \\, | \\, X) \\, > \\, P(Ham \\, | \\, X)$$ \n",
    "<center> **OR** </center> \n",
    "$$P(Spam \\, | \\, X) \\, < \\, P(Ham \\, | \\, X)$$"
   ]
  },
  {
   "cell_type": "code",
   "execution_count": 100,
   "id": "a5665b87",
   "metadata": {},
   "outputs": [
    {
     "data": {
      "text/plain": [
       "array([ True,  True,  True, ..., False, False, False])"
      ]
     },
     "execution_count": 100,
     "metadata": {},
     "output_type": "execute_result"
    }
   ],
   "source": [
    "prediction = joint_log_spam > joint_log_ham\n",
    "prediction"
   ]
  },
  {
   "cell_type": "markdown",
   "id": "8e9b0994",
   "metadata": {},
   "source": [
    "### Simplify\n",
    "\n",
    "$$P(X \\, | \\, Spam) \\, P(Spam) ≠ \\frac{P(X\\, | \\, Spam) \\, P(Spam)} {P(X)} $$"
   ]
  },
  {
   "cell_type": "code",
   "execution_count": 102,
   "id": "ea3c5e25",
   "metadata": {},
   "outputs": [],
   "source": [
    "joint_log_spam = X_test.dot(np.log(prob_token_spam)) + np.log(prob_spam)\n",
    "joint_log_ham= X_test.dot(np.log(prob_token_ham)) + np.log(1-prob_spam)\n"
   ]
  },
  {
   "cell_type": "markdown",
   "id": "4416052b",
   "metadata": {},
   "source": [
    "\n",
    "# Metrics and Evaluation \n",
    "## Accuracy of the model "
   ]
  },
  {
   "cell_type": "code",
   "execution_count": 85,
   "id": "b7333c48",
   "metadata": {},
   "outputs": [
    {
     "name": "stdout",
     "output_type": "stream",
     "text": [
      "Docs classified correctly 1673\n",
      "Docs classified incorrectly 50\n"
     ]
    }
   ],
   "source": [
    "correct_doc = (y_test == prediction).sum()\n",
    "numbs_doc_wrong = X_test.shape[0] - correct_doc\n",
    "\n",
    "print('Docs classified correctly', correct_doc)\n",
    "print('Docs classified incorrectly', numbs_doc_wrong)"
   ]
  },
  {
   "cell_type": "code",
   "execution_count": 86,
   "id": "10bb8385",
   "metadata": {},
   "outputs": [
    {
     "data": {
      "text/plain": [
       "0.9709808473592572"
      ]
     },
     "execution_count": 86,
     "metadata": {},
     "output_type": "execute_result"
    }
   ],
   "source": [
    "## Accuracy \n",
    "correct_doc/len(X_test)"
   ]
  },
  {
   "cell_type": "code",
   "execution_count": 87,
   "id": "efe5b1d9",
   "metadata": {},
   "outputs": [
    {
     "name": "stdout",
     "output_type": "stream",
     "text": [
      "Fraction classified incorrectly is 2.90%\n",
      "Fraction classified correclt is 97.10%\n"
     ]
    }
   ],
   "source": [
    "fraction_wrong = numbs_doc_wrong /len(X_test)\n",
    "print('Fraction classified incorrectly is {:.2%}'.format(fraction_wrong))\n",
    "print('Fraction classified correclt is {:.2%}'.format(1-fraction_wrong))"
   ]
  },
  {
   "cell_type": "code",
   "execution_count": 88,
   "id": "c3cc3107",
   "metadata": {},
   "outputs": [
    {
     "data": {
      "text/plain": [
       "(array([False,  True]), array([1167,  556]))"
      ]
     },
     "execution_count": 88,
     "metadata": {},
     "output_type": "execute_result"
    }
   ],
   "source": [
    "np.unique(prediction, return_counts = True)"
   ]
  },
  {
   "cell_type": "code",
   "execution_count": 89,
   "id": "2be302e7",
   "metadata": {},
   "outputs": [],
   "source": [
    "true_pos = (y_test == 1) & (prediction == 1)"
   ]
  },
  {
   "cell_type": "code",
   "execution_count": 90,
   "id": "f31f3f5b",
   "metadata": {},
   "outputs": [],
   "source": [
    "false_pos = (y_test == 0) & (prediction == 1) "
   ]
  },
  {
   "cell_type": "code",
   "execution_count": 91,
   "id": "47d32655",
   "metadata": {},
   "outputs": [],
   "source": [
    "false_neg = (y_test == 1) & (prediction == 0)"
   ]
  },
  {
   "cell_type": "code",
   "execution_count": null,
   "id": "eaf03349",
   "metadata": {},
   "outputs": [],
   "source": []
  },
  {
   "cell_type": "markdown",
   "id": "8d3c1ff1",
   "metadata": {},
   "source": [
    "# Recall Score- the sentitivity \n",
    "recalls is the (True Positions) /(( true Positive) + (False Neg)) "
   ]
  },
  {
   "cell_type": "code",
   "execution_count": 92,
   "id": "e65eb2c6",
   "metadata": {},
   "outputs": [
    {
     "name": "stdout",
     "output_type": "stream",
     "text": [
      "Recall score is 0.93\n"
     ]
    }
   ],
   "source": [
    "recall_score = true_pos.sum() / (true_pos.sum() + false_neg.sum())\n",
    "print('Recall score is {:.3}'.format(recall_score))"
   ]
  },
  {
   "cell_type": "markdown",
   "id": "561988e8",
   "metadata": {},
   "source": [
    "# Precision metric \n",
    "precision = (True Positive) / (True Pos + False Pos) "
   ]
  },
  {
   "cell_type": "code",
   "execution_count": 93,
   "id": "b543e886",
   "metadata": {},
   "outputs": [],
   "source": [
    "precision_score = true_pos.sum() / (true_pos.sum() + false_pos.sum())"
   ]
  },
  {
   "cell_type": "code",
   "execution_count": 94,
   "id": "54c1c8b5",
   "metadata": {},
   "outputs": [
    {
     "name": "stdout",
     "output_type": "stream",
     "text": [
      "Precision score is 0.984\n"
     ]
    }
   ],
   "source": [
    "print('Precision score is {:.3}'.format(precision_score))"
   ]
  },
  {
   "cell_type": "markdown",
   "id": "c4c94fc2",
   "metadata": {},
   "source": [
    "# F score or F1 SCore - the harmonic mean \n",
    "2 x ((Precision x Recall) / Precision + Recall )"
   ]
  },
  {
   "cell_type": "code",
   "execution_count": 95,
   "id": "530c8471",
   "metadata": {},
   "outputs": [
    {
     "name": "stdout",
     "output_type": "stream",
     "text": [
      "F1 Score is 0.956\n"
     ]
    }
   ],
   "source": [
    "f1_score = 2 * (precision_score *recall_score)/ (precision_score +recall_score)\n",
    "print('F1 Score is {:.3}'.format(f1_score))"
   ]
  },
  {
   "cell_type": "code",
   "execution_count": null,
   "id": "9ac39bde",
   "metadata": {},
   "outputs": [],
   "source": []
  },
  {
   "cell_type": "code",
   "execution_count": null,
   "id": "52f462ff",
   "metadata": {},
   "outputs": [],
   "source": []
  },
  {
   "cell_type": "code",
   "execution_count": null,
   "id": "ff27e8f2",
   "metadata": {},
   "outputs": [],
   "source": []
  },
  {
   "cell_type": "code",
   "execution_count": null,
   "id": "3e7206a0",
   "metadata": {},
   "outputs": [],
   "source": []
  },
  {
   "cell_type": "code",
   "execution_count": null,
   "id": "fea06ccd",
   "metadata": {},
   "outputs": [],
   "source": []
  },
  {
   "cell_type": "code",
   "execution_count": null,
   "id": "0d453968",
   "metadata": {},
   "outputs": [],
   "source": []
  }
 ],
 "metadata": {
  "kernelspec": {
   "display_name": "Python 3",
   "language": "python",
   "name": "python3"
  },
  "language_info": {
   "codemirror_mode": {
    "name": "ipython",
    "version": 3
   },
   "file_extension": ".py",
   "mimetype": "text/x-python",
   "name": "python",
   "nbconvert_exporter": "python",
   "pygments_lexer": "ipython3",
   "version": "3.8.8"
  }
 },
 "nbformat": 4,
 "nbformat_minor": 5
}
